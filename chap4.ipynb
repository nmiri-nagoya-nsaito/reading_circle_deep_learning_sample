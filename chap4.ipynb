{
 "cells": [
  {
   "cell_type": "markdown",
   "metadata": {},
   "source": [
    "# 第4章 ニューラルネットワークの学習\n",
    "\n",
    "- ニューラルネットワークの学習がテーマ\n",
    "- 学習とは，訓練データから最適な主にパラメータの値を自動で獲得すること\n",
    "- 学習の目的は，損失関数を指標として導入し，その値が最小となる重みパラメータを探し出すこと\n",
    "- 学習の手法として，勾配法とよばれる，関数の傾きを使った手法を使う"
   ]
  },
  {
   "cell_type": "markdown",
   "metadata": {},
   "source": [
    "## 4.1 データから学習する\n",
    "- ニューラルネットワークの特徴はデータから学習できること\n",
    "- 学習するとは，重みパラメータの値をデータから自動で決定すること\n",
    "- ここではPythonによってMNISTデータセットからの手書き数字の学習を実装する\n",
    "\n",
    "### 4.1.1 データ駆動\n",
    "- 機械学習はデータ駆動(data driven)によるアプローチ：人を中心とするアプローチからの脱却\n",
    "    - データ駆動：計算機科学における計算モデルのひとつ．　データにより計算が駆動される．　\n",
    "    - 計算モデル：計算・推論・証明といった行為を理論的・抽象的に考察するための数理モデル\n",
    "    - 数理モデル：微分方程式など，数学の言葉で記述した系．時間変化する現象内の指標の動きを模倣する\n",
    "- 何らかの問題解決の際，機械学習による手法では人の介入を極力避け，集められたデータから答えを見つけようと試みる\n",
    "    - データの集め方が恣意的になる可能性もあるのでは？\n",
    "    - ニューラルネットワークやディープラーニングは従来の機械学習で使われた手法以上に人の介入を遠ざけるという性質をもつ\n",
    "- アルゴリズムをひねり出す代わりにデータを活用して解決する\n",
    "    -　例えば，手書きの\"5\"という数字を正しく認識するための規則を考えるのは難しい\n",
    "    - 一つの方法：データから抽出した特徴量と呼ばれる（通常はベクトル）データを識別器で学習させる\n",
    "        - 有名な特徴量としてSIFT,SURF,HOG　があり，識別器としてSVMやKNNがある\n",
    "        - このアプローチではデータの中から機械が規則性を見つけ出す．ゼロからアルゴリズムを考えるより効率的．\n",
    "        - 特徴量は人が設計（選択）する必要がある\n",
    "    - ニューラルネットワーク（ディープラーニング）による方法はデータをそのまま学習する\n",
    "        - 特徴量に相当する部分も機械が学習する（end-to-end machine learning）\n",
    "        - すべての問題を同じ流れで解くことができる\n",
    "\n",
    "### 4.1.2 訓練データとテストデータ\n",
    "- 機械学習におけるデータの取り扱いについての注意事項\n",
    "    - データは訓練データ(教師データ)とテストデータの2つに分けて学習や実験を行うのが一般的\n",
    "        - 学習したモデルの汎化能力（未知のデータに対する能力）を正しく評価するため\n",
    "            - (例)　ハガキの郵便番号の自動読み取り：任意の人の任意の文字を読みとる能力を限られたデータで獲得したい\n",
    "        - 分けないと正しい評価が下せず，　特定のデータセットしか対応できないことになる可能性が\n",
    "            - 過学習(overfitting）: 特定のデータセットだけに過度に対応した状態．過学習を避けることは機械学習の一つの課題．       "
   ]
  },
  {
   "cell_type": "markdown",
   "metadata": {},
   "source": [
    "## 4.2 損失関数\n",
    "\n",
    "- ニューラルネットワークの学習では損失関数(loss function)と呼ばれる指標を基準として最適な重みパラメータの探索を行う\n",
    "    - 損失関数は任意の関数を用いることができる\n",
    "    - 一般には2条和誤差や交差エントロピー誤差などが用いられる\n",
    "    - 損失関数は現在のニューラルネットワークが教師データに対してどれだけ適合していないかを表す"
   ]
  },
  {
   "cell_type": "markdown",
   "metadata": {},
   "source": [
    "### 4.2.1 2乗和誤差(mean squared error)\n",
    "\n",
    "$$E = \\frac{1}{2}\\sum_{k}(y_k - t_k)^2$$\n",
    "ここで\n",
    "\n",
    "- $y_k$ : ニューラルネットワークの出力\n",
    "- $t_k$ : 教師データ\n",
    "- $k$ : データの次元数\n",
    "\n",
    "とする．\n",
    "例として，次のような配列データを考える．　"
   ]
  },
  {
   "cell_type": "code",
   "execution_count": 1,
   "metadata": {
    "collapsed": true
   },
   "outputs": [],
   "source": [
    "import numpy as np"
   ]
  },
  {
   "cell_type": "code",
   "execution_count": 2,
   "metadata": {
    "collapsed": true
   },
   "outputs": [],
   "source": [
    "# yはニューラルネットワークの出力を表す\n",
    "y = [0.1, 0.05, 0.6, 0.0, 0.05, 0.1, 0.0, 0.1, 0.0, 0.0]\n",
    "# t は教師データを表す．　正解を１とし，　それ以外を０とする表現を　one-hot　表現という．\n",
    "t = [0, 0, 1, 0, 0, 0, 0, 0, 0, 0]"
   ]
  },
  {
   "cell_type": "markdown",
   "metadata": {},
   "source": [
    "ここで２乗和誤差を計算するための関数を導入する"
   ]
  },
  {
   "cell_type": "code",
   "execution_count": 3,
   "metadata": {
    "collapsed": true
   },
   "outputs": [],
   "source": [
    "# ２乗和誤差の実装\n",
    "# yとt はNumpyの配列とする\n",
    "def mean_squared_error(y, t):\n",
    "    return 0.5 * np.sum((y-t)**2)"
   ]
  },
  {
   "cell_type": "code",
   "execution_count": 4,
   "metadata": {
    "collapsed": false
   },
   "outputs": [
    {
     "data": {
      "text/plain": [
       "0.097500000000000031"
      ]
     },
     "execution_count": 4,
     "metadata": {},
     "output_type": "execute_result"
    }
   ],
   "source": [
    "mean_squared_error(np.array(y), np.array(t))"
   ]
  },
  {
   "cell_type": "code",
   "execution_count": 5,
   "metadata": {
    "collapsed": false
   },
   "outputs": [
    {
     "data": {
      "text/plain": [
       "0.59750000000000003"
      ]
     },
     "execution_count": 5,
     "metadata": {},
     "output_type": "execute_result"
    }
   ],
   "source": [
    "# 先ほどの　y　のインデックス２の要素と７の要素とを入れ替えてみて，　再度実行\n",
    "y = [0.1, 0.05, 0.1, 0.0, 0.05, 0.1, 0.0, 0.6, 0.0, 0.0]\n",
    "mean_squared_error(np.array(y), np.array(t))"
   ]
  },
  {
   "cell_type": "markdown",
   "metadata": {},
   "source": [
    "以上の結果より，正解（2番）に近いニューラルネットの出力の方が２乗和誤差が小さくなることがわかる"
   ]
  },
  {
   "cell_type": "markdown",
   "metadata": {},
   "source": [
    "### 4.2.2 交差エントロピー誤差(cross entropy error)\n",
    "\n",
    "$$E = -\\sum_k t_k \\log y_k$$\n",
    "\n",
    "ここで\n",
    "\n",
    "- $\\log$は底が$e$の自然対数$\\log_e$を表す．\n",
    "- $y_k$: ニューラルネットワークの出力\n",
    "- $t_k$: 正解ラベル\n",
    "\n",
    "とする．\n",
    "\n",
    "$t_k$がone-hot表現のとき，交差エントロピー誤差は正解ラベルに対応するニューラルネット出力の自然対数を計算するだけになる"
   ]
  },
  {
   "cell_type": "code",
   "execution_count": 6,
   "metadata": {
    "collapsed": false
   },
   "outputs": [
    {
     "data": {
      "text/plain": [
       "[<matplotlib.lines.Line2D at 0x11686fe10>]"
      ]
     },
     "execution_count": 6,
     "metadata": {},
     "output_type": "execute_result"
    },
    {
     "data": {
      "image/png": "[encoded data removed]",
      "text/plain": [
       "<matplotlib.figure.Figure at 0x113441908>"
      ]
     },
     "metadata": {},
     "output_type": "display_data"
    }
   ],
   "source": [
    "%matplotlib inline\n",
    "import matplotlib.pyplot as plt\n",
    "x = np.arange(0.01, 1, 0.01)\n",
    "y = np.log(x)\n",
    "plt.plot(x,y)"
   ]
  },
  {
   "cell_type": "markdown",
   "metadata": {},
   "source": [
    "自然対数のグラフを見ると，$x$が１に近くにつれ$y$は０に近づく．$x$が０に近くにつれ$y$はどんどん小さくなる．\n",
    "よって，交差エントロピー誤差は$x$が０に近く（確率が低くなる）につれどんどん大きくなる"
   ]
  },
  {
   "cell_type": "code",
   "execution_count": 7,
   "metadata": {
    "collapsed": false
   },
   "outputs": [],
   "source": [
    "# 交差エントロピー誤差の実装\n",
    "# yとt はNumpyの配列とする\n",
    "# log関数の入力が0にならないようにするため微小な値を加算している\n",
    "def cross_entropy_error(y, t):\n",
    "    delta = 1e-7\n",
    "    return -np.sum(t * np.log(y + delta))"
   ]
  },
  {
   "cell_type": "code",
   "execution_count": 8,
   "metadata": {
    "collapsed": false
   },
   "outputs": [
    {
     "data": {
      "text/plain": [
       "0.51082545709933802"
      ]
     },
     "execution_count": 8,
     "metadata": {},
     "output_type": "execute_result"
    }
   ],
   "source": [
    "# 実際に交差エントロピー誤差を計算して見る\n",
    "t = [0, 0, 1, 0, 0, 0, 0, 0, 0, 0]\n",
    "y = [0.1, 0.05, 0.6, 0.0, 0.05, 0.1, 0.0, 0.1, 0.0, 0.0]\n",
    "cross_entropy_error(np.array(y), np.array(t))"
   ]
  },
  {
   "cell_type": "code",
   "execution_count": 9,
   "metadata": {
    "collapsed": false
   },
   "outputs": [
    {
     "data": {
      "text/plain": [
       "2.3025840929945458"
      ]
     },
     "execution_count": 9,
     "metadata": {},
     "output_type": "execute_result"
    }
   ],
   "source": [
    "# yの2番要素と７番要素とを入れ替えて再度計算\n",
    "y = [0.1, 0.05, 0.1, 0.0, 0.05, 0.1, 0.0, 0.6, 0.0, 0.0]\n",
    "cross_entropy_error(np.array(y), np.array(t))"
   ]
  },
  {
   "cell_type": "markdown",
   "metadata": {},
   "source": [
    "正解となるラベルの出力が大きい方が誤差が少なくなっていることがわかる"
   ]
  },
  {
   "cell_type": "markdown",
   "metadata": {},
   "source": [
    "### 4.2.3 ミニバッチ学習\n",
    "\n",
    "- 訓練データを使って学習するとは，訓練データに対する損失関数を求めてその値を小さくするようなパラメータを探すということ\n",
    "- 損失関数は全ての訓練データを対象として求める必要がある．\n",
    "    - １００個のデータがある場合は１００個の損失関数の和を指標とする\n",
    "- 複数のデータの場合の交差エントロピー誤差は次のような式になる\n",
    "\n",
    "$$E = -\\frac{1}{N}\\sum_n\\sum_k t_{nk} \\log y_{nk}$$\n",
    "\n",
    "ここで\n",
    "\n",
    "- N : データの個数\n",
    "- $t_{nk}$ : 教師データ\n",
    "    - $t_{nk}$の添字は$n$個目のデータの$k$次元目の値を表す\n",
    "- $y_{nk}$ : ネットワークの出力（$n$個目のデータの$k$次元目の値）\n",
    "\n",
    "#### この式の特徴\n",
    "- １個の場合の損失関数の値を単純にN個に拡張したもの．\n",
    "- 和を個数Nで割ることで正規化している(これは平均の損失関数を表す)\n",
    "- 正規化することでデータ個数に寄らず同じ範囲の値となる"
   ]
  },
  {
   "cell_type": "markdown",
   "metadata": {},
   "source": [
    "データ個数が多い場合の損失関数の計算を考える\n",
    "- MNISTの場合，データが６００００個あるため，全てのデータを対象にして損失関数を計算して和を求めるのは時間がかかる\n",
    "- ビックデータの場合，さらにデータの個数が多いケースも十分に考えられる\n",
    "- したがって，全ての損失関数の和を求めるのは現実的ではないため，**ミニバッチ学習**を行い，その値を全体の近似として利用する\n",
    "\n",
    "#### ミニバッチ学習\n",
    "- データ全体を使って学習するのではなく，無作為に選び出した一部のデータ（ミニバッチ）を用いて学習を行う学習手法"
   ]
  },
  {
   "cell_type": "code",
   "execution_count": 10,
   "metadata": {
    "collapsed": false
   },
   "outputs": [
    {
     "name": "stdout",
     "output_type": "stream",
     "text": [
      "one shot label:\n",
      "\n",
      "x_train_oneshot.shape = (60000, 784)\n",
      "t_train_oneshot.shape = (60000, 10)\n",
      "x_test_oneshot.shape = (10000, 784)\n",
      "t_test_oneshot.shape = (10000, 10)\n",
      "\n",
      "type(x_train_oneshot) = <class 'numpy.ndarray'>\n",
      "type(t_train_oneshot) = <class 'numpy.ndarray'>\n",
      "type(x_test_oneshot) = <class 'numpy.ndarray'>\n",
      "type(t_test_oneshot) = <class 'numpy.ndarray'>\n",
      "\n",
      "normal label:\n",
      "\n",
      "x_train.shape = (60000, 784)\n",
      "t_train.shape = (60000,)\n",
      "x_test.shape = (10000, 784)\n",
      "t_test.shape = (10000,)\n",
      "\n",
      "type(x_train) = <class 'numpy.ndarray'>\n",
      "type(t_train) = <class 'numpy.ndarray'>\n",
      "type(x_test) = <class 'numpy.ndarray'>\n",
      "type(t_test) = <class 'numpy.ndarray'>\n"
     ]
    }
   ],
   "source": [
    "#\n",
    "# MNISTデータ読み込み\n",
    "#\n",
    "import os, sys\n",
    "sys.path.append(os.pardir)   # 親ディレクトリをモジュール探索パスに追加\n",
    "import numpy as np\n",
    "from dataset.mnist import load_mnist\n",
    "\n",
    "# MNISTデータセットの読み込み(*_train : 訓練用，　*_test : 評価用)\n",
    "\n",
    "# one-shot 表現\n",
    "(x_train_oneshot, t_train_oneshot), (x_test_oneshot, t_test_oneshot) = load_mnist(normalize=True, one_hot_label=True)\n",
    "print(\"one shot label:\\n\")\n",
    "print(\"x_train_oneshot.shape = \" + str(x_train_oneshot.shape))\n",
    "print(\"t_train_oneshot.shape = \" + str(t_train_oneshot.shape))\n",
    "print(\"x_test_oneshot.shape = \" + str(x_test_oneshot.shape))\n",
    "print(\"t_test_oneshot.shape = \" + str(t_test_oneshot.shape))\n",
    "print(\"\")\n",
    "print(\"type(x_train_oneshot) = \" + str(type(x_train_oneshot)))\n",
    "print(\"type(t_train_oneshot) = \" + str(type(t_train_oneshot)))\n",
    "print(\"type(x_test_oneshot) = \" + str(type(x_test_oneshot)))\n",
    "print(\"type(t_test_oneshot) = \" + str(type(t_test_oneshot)))\n",
    "print(\"\")\n",
    "\n",
    "# 通常ラベル\n",
    "(x_train, t_train), (x_test, t_test) = load_mnist(normalize=True)\n",
    "print(\"normal label:\\n\")\n",
    "print(\"x_train.shape = \" + str(x_train.shape))\n",
    "print(\"t_train.shape = \" + str(t_train.shape))\n",
    "print(\"x_test.shape = \" + str(x_test.shape))\n",
    "print(\"t_test.shape = \" + str(t_test.shape))\n",
    "print(\"\")\n",
    "print(\"type(x_train) = \" + str(type(x_train)))\n",
    "print(\"type(t_train) = \" + str(type(t_train)))\n",
    "print(\"type(x_test) = \" + str(type(x_test)))\n",
    "print(\"type(t_test) = \" + str(type(t_test)))"
   ]
  },
  {
   "cell_type": "code",
   "execution_count": 11,
   "metadata": {
    "collapsed": false
   },
   "outputs": [
    {
     "name": "stdout",
     "output_type": "stream",
     "text": [
      "train_size = 60000\n",
      "batch_mask = [ 3487 59073  5457  7468  2779 12991 52818  6668 14966 47650]\n",
      "\n",
      "x_batch.shape = (10, 784)\n",
      "x_batch = [[ 0.  0.  0. ...,  0.  0.  0.]\n",
      " [ 0.  0.  0. ...,  0.  0.  0.]\n",
      " [ 0.  0.  0. ...,  0.  0.  0.]\n",
      " ..., \n",
      " [ 0.  0.  0. ...,  0.  0.  0.]\n",
      " [ 0.  0.  0. ...,  0.  0.  0.]\n",
      " [ 0.  0.  0. ...,  0.  0.  0.]]\n",
      "\n",
      "t_batch.shape = (10,)\n",
      "t_batch = [1 6 9 9 9 4 3 9 4 2]\n",
      "\n",
      "t_batch_ontshot.shape = (10, 10)\n",
      "t_batch_ontshot = \n",
      "[[ 0.  1.  0.  0.  0.  0.  0.  0.  0.  0.]\n",
      " [ 0.  0.  0.  0.  0.  0.  1.  0.  0.  0.]\n",
      " [ 0.  0.  0.  0.  0.  0.  0.  0.  0.  1.]\n",
      " [ 0.  0.  0.  0.  0.  0.  0.  0.  0.  1.]\n",
      " [ 0.  0.  0.  0.  0.  0.  0.  0.  0.  1.]\n",
      " [ 0.  0.  0.  0.  1.  0.  0.  0.  0.  0.]\n",
      " [ 0.  0.  0.  1.  0.  0.  0.  0.  0.  0.]\n",
      " [ 0.  0.  0.  0.  0.  0.  0.  0.  0.  1.]\n",
      " [ 0.  0.  0.  0.  1.  0.  0.  0.  0.  0.]\n",
      " [ 0.  0.  1.  0.  0.  0.  0.  0.  0.  0.]]\n"
     ]
    }
   ],
   "source": [
    "# ミニバッチを取り出す（ランダムにデータを選択する）コード\n",
    "train_size = x_train.shape[0]\n",
    "batch_size = 10\n",
    "\n",
    "# 指定された数値のなかからランダムに好きな数値だけ取り出す\n",
    "# この場合，０以上train_size未満の数値のなかからランダムにbatch_size個の数字を選び出す\n",
    "batch_mask = np.random.choice(train_size, batch_size)\n",
    "\n",
    "x_batch = x_train[batch_mask]\n",
    "t_batch = t_train[batch_mask]\n",
    "t_batch_oneshot = t_train_oneshot[batch_mask]\n",
    "\n",
    "print(\"train_size = \" + str(train_size))\n",
    "print(\"batch_mask = \" + str(batch_mask))\n",
    "print(\"\")\n",
    "print(\"x_batch.shape = \" + str(x_batch.shape))\n",
    "print(\"x_batch = \" + str(x_batch))\n",
    "print(\"\")\n",
    "print(\"t_batch.shape = \" + str(t_batch.shape))\n",
    "print(\"t_batch = \" + str(t_batch))\n",
    "print(\"\")\n",
    "print(\"t_batch_ontshot.shape = \" + str(t_batch_oneshot.shape))\n",
    "print(\"t_batch_ontshot = \\n\" + str(t_batch_oneshot))"
   ]
  },
  {
   "cell_type": "markdown",
   "metadata": {},
   "source": [
    "### 4.2.4 [バッチ対応版]交差エントロピー誤差の実装\n",
    "\n"
   ]
  },
  {
   "cell_type": "code",
   "execution_count": 33,
   "metadata": {
    "collapsed": false
   },
   "outputs": [],
   "source": [
    "# 交差エントロピー誤差の実装（バッチ対応版）\n",
    "# yとt はNumpyの配列とする\n",
    "def cross_entropy_error(y, t):\n",
    "    # 次元が１(つまりデータの個数が1)の場合\n",
    "    if y.ndim == 1:\n",
    "        t = t.reshape(1, t.size)\n",
    "        y = y.reshape(1, y.size)\n",
    "    \n",
    "    batch_size = y.shape[0]\n",
    "    return -np.sum(t * np.log(y)) / batch_size"
   ]
  },
  {
   "cell_type": "code",
   "execution_count": 13,
   "metadata": {
    "collapsed": false
   },
   "outputs": [
    {
     "name": "stdout",
     "output_type": "stream",
     "text": [
      "y.shape = (3,)\n",
      "y.shape(resized) = (1, 3)\n"
     ]
    }
   ],
   "source": [
    "# データ数が1の時のreshape の確認\n",
    "y = np.array([1,3,5])\n",
    "print(\"y.shape = \" + str(y.shape))\n",
    "y = y.reshape(1, y.size)\n",
    "print(\"y.shape(resized) = \" + str(y.shape))"
   ]
  },
  {
   "cell_type": "code",
   "execution_count": 41,
   "metadata": {
    "collapsed": true
   },
   "outputs": [],
   "source": [
    "# 交差エントロピー誤差の実装（バッチ対応版．教師データがone-hot表現ではなくラベルとして与えられた場合）\n",
    "# yとt はNumpyの配列とする\n",
    "def cross_entropy_error(y, t):\n",
    "    # 次元が１の場合\n",
    "    if y.ndim == 1:\n",
    "        t = t.reshape(1, t.size)\n",
    "        y = y.reshape(1, y.size)\n",
    "    \n",
    "    batch_size = y.shape[0]\n",
    "    # NumPy多次元配列のインデックス参照を用いてアクセスしていることに注意\n",
    "    return -np.sum(t * np.log(y[np.arange(batch_size), t])) / batch_size"
   ]
  },
  {
   "cell_type": "code",
   "execution_count": 14,
   "metadata": {
    "collapsed": false
   },
   "outputs": [
    {
     "name": "stdout",
     "output_type": "stream",
     "text": [
      "[0 1 2 3 4]\n",
      "<class 'numpy.ndarray'>\n",
      "y[2,1] = 0.1\n"
     ]
    }
   ],
   "source": [
    "# NumPy配列が多重配列の場合の，インデックス参照\n",
    "batch_size = 5\n",
    "print(np.arange(batch_size))\n",
    "y = np.array([[0.1, 0.05], [0.6, 0.0], [0.05, 0.1], [0.0, 0.1], [0.0, 0.0]])\n",
    "t = [2,7,0,9,4]\n",
    "print(type(np.arange(batch_size)))\n",
    "print(\"y[2,1] = \" + str(y[2,1]))"
   ]
  },
  {
   "cell_type": "code",
   "execution_count": 15,
   "metadata": {
    "collapsed": false
   },
   "outputs": [
    {
     "data": {
      "text/plain": [
       "array([-16.1180954, -16.1180954, -16.1180954, -16.1180954, -16.1180954], dtype=float32)"
      ]
     },
     "execution_count": 15,
     "metadata": {},
     "output_type": "execute_result"
    }
   ],
   "source": [
    "# 2つの同じサイズのNumPy配列を使ってインデックス参照し，計算結果をNumPy配列として得る\n",
    "a = np.array([0, 1, 2, 3, 4])\n",
    "b = np.array([2, 7, 0, 9, 4])\n",
    "delta = 1e-7\n",
    "# これは　x_train[0,2], x_train[1,7],　x_train[2,0], x_train[3,9], x_train[4,4]　をlogに入力していることになる\n",
    "np.log(x_train[a, b] + delta)"
   ]
  },
  {
   "cell_type": "markdown",
   "metadata": {},
   "source": [
    "### 4.2.5 なぜ損失関数を設定するのか？\n",
    "\n",
    "- 最適なパラメータを探し出す方法とは，よりよい結果が出る方向へパラメータを徐々に更新させてゆくこと\n",
    "    - 評価関数をパラメータで微分し，傾きがマイナスならプラス方向へ，プラスならマイナス方向へパラメータを変化させる\n",
    "- ポイント\n",
    "    - 結果が「よりよい」かどうかが判断できなくてはならない\n",
    "    - 値を更新させることができなければならない\n",
    "        - パラメータの変化に応じて関数の値が変化しなければならない（そうでないと更新できない）\n",
    "- 以上の観点で検討すると\n",
    "    - 認識精度を指標にすると，パラメータの微分がほとんどの場所で0になってしまう\n",
    "        - パラメータの微小な変化では認識精度がほとんど変化しない．しても非連続的に変化する\n",
    "        - 損失関数はパラメータの変化に応じて連続的に変化する\n",
    "    - 活性化関数をステップ関数にすると，微分がほぼ全域で0になる\n",
    "        - パラメータが変化をステップ関数が消してしまうため，関数に反映されない\n",
    "        - シグモイド関数はパラメータの変化に対して常に連続的に変化する（しかも単調増加）"
   ]
  },
  {
   "cell_type": "markdown",
   "metadata": {},
   "source": [
    "## 4.3 数値微分"
   ]
  },
  {
   "cell_type": "markdown",
   "metadata": {},
   "source": [
    "### 4.3.1 微分\n",
    "\n",
    "微分とは,ある瞬間の変化量を表したもの\n",
    "\n",
    "$$\\frac{df(x)}{dx} = \\lim_{h\\rightarrow 0} \\frac{f(x+h)-f(x)}{h}$$\n",
    "\n",
    "#### 関数の微分を計算する際の注意\n",
    "\n",
    "- 丸め誤差(rounding error)：小さすぎる値を使用することで，数値が省略された結果生じる誤差\n",
    "    - 微小間隔として$10^{-4}$程度の値を使う\n",
    "- 差分の計算において，間隔を無限小にすることができないために誤差が生じる\n",
    "    - $\\frac{df(x)}{dx} と　\\frac{f(x+h)-f(x)}{h}$はhを無限小にできないため，異なる値となる"
   ]
  },
  {
   "cell_type": "code",
   "execution_count": 16,
   "metadata": {
    "collapsed": false
   },
   "outputs": [
    {
     "data": {
      "text/plain": [
       "0.0"
      ]
     },
     "execution_count": 16,
     "metadata": {},
     "output_type": "execute_result"
    }
   ],
   "source": [
    "# 丸め誤差の例．　実際は0ではないのに結果は0となる\n",
    "np.float32(1e-50)"
   ]
  },
  {
   "cell_type": "markdown",
   "metadata": {},
   "source": [
    "#### 誤差を減らすための工夫\n",
    "\n",
    "- 中心差分：x を中心としてその前後の差分を計算する\n",
    "    - 前方差分　$\\frac{f(x+h)-f(x)}{h}$ の代わりに，中心差分として例えば　$\\frac{f(x+\\frac{h}{2})-f(x-\\frac{h}{2})}{h}$　を使う"
   ]
  },
  {
   "cell_type": "code",
   "execution_count": 17,
   "metadata": {
    "collapsed": true
   },
   "outputs": [],
   "source": [
    "# 中心差分による数値微分の実装\n",
    "# f　は関数，　xは関数fのパラメータ\n",
    "def numerical_diff(f, x):\n",
    "    h = 1e-4\n",
    "    return ((f(x+h) - f(x-h)) / (2 * h) )"
   ]
  },
  {
   "cell_type": "markdown",
   "metadata": {},
   "source": [
    "### 4.3.2 数値微分の例\n",
    "\n",
    "次の関数を数値微分してみる\n",
    "$$y = 0.01x^2 + 0.1x$$"
   ]
  },
  {
   "cell_type": "code",
   "execution_count": 18,
   "metadata": {
    "collapsed": true
   },
   "outputs": [],
   "source": [
    "# 微分対象となる関数の実装\n",
    "def function_1(x):\n",
    "    return 0.01 * x**2 + 0.1 * x"
   ]
  },
  {
   "cell_type": "code",
   "execution_count": 19,
   "metadata": {
    "collapsed": false
   },
   "outputs": [
    {
     "data": {
      "image/png": "[encoded data removed]",
      "text/plain": [
       "<matplotlib.figure.Figure at 0x11693db38>"
      ]
     },
     "metadata": {},
     "output_type": "display_data"
    }
   ],
   "source": [
    "# 関数の描画\n",
    "import numpy as np\n",
    "import matplotlib.pyplot as plt\n",
    "\n",
    "x = np.arange(0.0, 20.0, 0.1)\n",
    "y = function_1(x)\n",
    "plt.xlabel(\"x\")\n",
    "plt.ylabel(\"f(x)\")\n",
    "plt.plot(x, y)\n",
    "plt.show()"
   ]
  },
  {
   "cell_type": "code",
   "execution_count": 20,
   "metadata": {
    "collapsed": false
   },
   "outputs": [
    {
     "name": "stdout",
     "output_type": "stream",
     "text": [
      "f'(5) = 0.1999999999990898\n",
      "f'(10) = 0.2999999999986347\n"
     ]
    },
    {
     "data": {
      "image/png": "[encoded data removed]",
      "text/plain": [
       "<matplotlib.figure.Figure at 0x11683e518>"
      ]
     },
     "metadata": {},
     "output_type": "display_data"
    }
   ],
   "source": [
    "#　関数を微分してみる\n",
    "df5 = numerical_diff(function_1, 5)\n",
    "df10 = numerical_diff(function_1, 10)\n",
    "print(\"f'(5) = \" + str(df5))\n",
    "print(\"f'(10) = \" + str(df10))\n",
    "\n",
    "x = np.arange(0.0, 20.0, 0.1)\n",
    "y = function_1(x)\n",
    "plt.xlabel(\"x\")\n",
    "plt.ylabel(\"f(x)\")\n",
    "plt.plot(x, y)\n",
    "\n",
    "fdf5 = df5 * (x-5) + function_1(5)\n",
    "plt.plot(x, fdf5)\n",
    "# (5, function_1(5)) と　(0, function_1(5)) とを結ぶ青い破線をプロット\n",
    "plt.plot([0,5], [function_1(5), function_1(5)], '--b')\n",
    "# (5, function_1(5)) と　(5, 0) とを結ぶ青い破線をプロット\n",
    "plt.plot([5, 5], [-1, function_1(5)], '--b')\n",
    "\n",
    "fdf10 = df10 * (x-10) + function_1(10)\n",
    "plt.plot(x, fdf10)\n",
    "# (10, function_1(10)) と　(0, function_1(10)) とを結ぶ青い破線をプロット\n",
    "plt.plot([0,10], [function_1(10), function_1(10)], '--b')\n",
    "# (10, function_1(10)) と　(10, 0) とを結ぶ青い破線をプロット\n",
    "plt.plot([10, 10], [-1, function_1(10)], '--b')\n",
    "\n",
    "plt.show()\n"
   ]
  },
  {
   "cell_type": "markdown",
   "metadata": {},
   "source": [
    "### 4.3.3 偏微分\n",
    "\n",
    "次の式を考える\n",
    "$$f(x_0, x_1) = x_0^2 + x_1^2$$"
   ]
  },
  {
   "cell_type": "code",
   "execution_count": 21,
   "metadata": {
    "collapsed": true
   },
   "outputs": [],
   "source": [
    "def function_2(x):\n",
    "    return x[0]**2 + x[1]**2"
   ]
  },
  {
   "cell_type": "code",
   "execution_count": 22,
   "metadata": {
    "collapsed": false
   },
   "outputs": [
    {
     "data": {
      "image/png": "[encoded data removed]",
      "text/plain": [
       "<matplotlib.figure.Figure at 0x1370e55c0>"
      ]
     },
     "metadata": {},
     "output_type": "display_data"
    }
   ],
   "source": [
    "# function_2 をグラフに描画する\n",
    "from mpl_toolkits.mplot3d import Axes3D\n",
    "\n",
    "x = [np.arange(-3, 3, 0.1), np.arange(-3,3, 0.1)]\n",
    "X, Y = np.meshgrid(x[0], x[1])\n",
    "Z = function_2([X, Y])\n",
    "\n",
    "fig = plt.figure()\n",
    "ax = Axes3D(fig)\n",
    "ax.plot_wireframe(X,Y,Z)\n",
    "\n",
    "plt.show()"
   ]
  },
  {
   "cell_type": "markdown",
   "metadata": {},
   "source": [
    "2つ以上の変数からなる関数の場合は，数値微分を考える際にどの変数に対する微分かを区別する必要がある\n",
    "\n",
    "#### 偏微分\n",
    "- 複数の変数からなる関数の微分\n",
    "- 数式で表すと$\\frac{\\partial f}{\\partial x_0}$,$\\frac{\\partial f}{\\partial x_1}$の様に書く\n",
    "\n",
    "#### 偏微分を計算してみる\n",
    "- 偏微分は，1変数の微分と同じである場所の傾きを求める\n",
    "- 偏微分の場合，複数ある変数の中で対象とする変数を1つに絞り，他の変数はある値に固定する"
   ]
  },
  {
   "cell_type": "code",
   "execution_count": 23,
   "metadata": {
    "collapsed": false
   },
   "outputs": [
    {
     "data": {
      "text/plain": [
       "6.00000000000378"
      ]
     },
     "execution_count": 23,
     "metadata": {},
     "output_type": "execute_result"
    }
   ],
   "source": [
    "# x0 = 3, x1 = 4 のときの　x0　に対する偏微分\n",
    "\n",
    "def function_tmp1(x0):\n",
    "    return x0 * x0 + 4.0**2.0\n",
    "\n",
    "numerical_diff(function_tmp1, 3.0)"
   ]
  },
  {
   "cell_type": "code",
   "execution_count": 24,
   "metadata": {
    "collapsed": false
   },
   "outputs": [
    {
     "data": {
      "text/plain": [
       "7.999999999999119"
      ]
     },
     "execution_count": 24,
     "metadata": {},
     "output_type": "execute_result"
    }
   ],
   "source": [
    "# x0 = 3, x1 = 4 のときの　x1　に対する偏微分\n",
    "\n",
    "def function_tmp2(x1):\n",
    "    return 3.0**2.0 + x1*x1\n",
    "\n",
    "numerical_diff(function_tmp2, 4.0)"
   ]
  },
  {
   "cell_type": "markdown",
   "metadata": {},
   "source": [
    "## 4.4 勾配\n",
    "\n",
    "1変数ずつ行なっていた偏微分の計算を一つにまとめて$(\\frac{\\partial f}{\\partial x_0}, \\frac{\\partial f}{\\partial x_1})$の形に（勾配：gradientという）まとめる"
   ]
  },
  {
   "cell_type": "code",
   "execution_count": 25,
   "metadata": {
    "collapsed": false
   },
   "outputs": [
    {
     "name": "stdout",
     "output_type": "stream",
     "text": [
      "gradient of function_2 at (3.0, 4.0) = [ 6.  8.]\n",
      "gradient of function_2 at (0.0, 2.0) = [ 0.  4.]\n",
      "gradient of function_2 at (3.0, 0.0) = [ 6.  0.]\n"
     ]
    }
   ],
   "source": [
    "# 勾配計算の実装\n",
    "# f: 関数，　x：　パラメータ（配列）\n",
    "def numerical_gradient(f, x):\n",
    "    h = 1e-4\n",
    "    grad = np.zeros_like(x)\n",
    "    \n",
    "    for idx in range(x.shape[0]):\n",
    "        # 元の値を一時退避\n",
    "        tmp_val = x[idx]\n",
    "        \n",
    "        # f(x+h) の計算\n",
    "        x[idx] = tmp_val + h\n",
    "        fxh1 = f(x)\n",
    "        \n",
    "        # f(x-h) の計算\n",
    "        x[idx] = tmp_val - h\n",
    "        fxh2 = f(x)\n",
    "        \n",
    "        #　勾配の算出（中心差分）\n",
    "        grad[idx] = (fxh1 - fxh2) / (2 * h)\n",
    "        \n",
    "        # 退避していた値を戻す\n",
    "        x[idx] = tmp_val  \n",
    "    return grad\n",
    "\n",
    "# 実行結果\n",
    "print(\"gradient of function_2 at (3.0, 4.0) = \" + str(numerical_gradient(function_2, np.array([3.0, 4.0]))))\n",
    "print(\"gradient of function_2 at (0.0, 2.0) = \" + str(numerical_gradient(function_2, np.array([0.0, 2.0]))))\n",
    "print(\"gradient of function_2 at (3.0, 0.0) = \" + str(numerical_gradient(function_2, np.array([3.0, 0.0]))))"
   ]
  },
  {
   "cell_type": "code",
   "execution_count": 26,
   "metadata": {
    "collapsed": false
   },
   "outputs": [
    {
     "data": {
      "text/plain": [
       "2"
      ]
     },
     "execution_count": 26,
     "metadata": {},
     "output_type": "execute_result"
    }
   ],
   "source": [
    "x = np.array([1, 2])\n",
    "x.size"
   ]
  },
  {
   "cell_type": "code",
   "execution_count": 27,
   "metadata": {
    "collapsed": false
   },
   "outputs": [
    {
     "data": {
      "image/png": "[encoded data removed]",
      "text/plain": [
       "<matplotlib.figure.Figure at 0x1371e7160>"
      ]
     },
     "metadata": {},
     "output_type": "display_data"
    }
   ],
   "source": [
    "# 勾配をグラフに図示\n",
    "x0 = np.arange(-2, 2.5, 0.25)\n",
    "x1 = np.arange(-2,2.5, 0.25)\n",
    "X, Y = np.meshgrid(x0, x1)\n",
    "\n",
    "X = X.flatten()\n",
    "Y = Y.flatten()\n",
    "\n",
    "grad = numerical_gradient(function_2, np.array([X, Y]))\n",
    "plt.quiver(X, Y, -grad[0], -grad[1],  angles=\"xy\",color=\"#666666\")#,headwidth=10,scale=40,color=\"#444444\")\n",
    "\n",
    "plt.xlim([-2, 2])\n",
    "plt.ylim([-2, 2])\n",
    "plt.xlabel('x0')\n",
    "plt.ylabel('x1')\n",
    "plt.grid()\n",
    "plt.draw()\n",
    "plt.show()"
   ]
  },
  {
   "cell_type": "markdown",
   "metadata": {},
   "source": [
    "この図が示すこと\n",
    "\n",
    "- この図は各点における勾配を矢印で表現したものである\n",
    "- 矢印は各地点において低くなる方向を指す\n",
    "    - 一番低い地点を指すとは限らない\n",
    "- 一番低い場所から離れるほど矢印の大きさも大きくなる\n",
    "- 勾配が示す方向は各場所において関数の値を最も減らす方向を指す"
   ]
  },
  {
   "cell_type": "markdown",
   "metadata": {},
   "source": [
    "### 4.4.1 勾配法\n",
    "\n",
    "勾配を利用して関数の最小値を探すための方法\n",
    "\n",
    "注意点\n",
    "- 勾配が指す先が本当に進むべき方向かどうか，また関数の最小値かどうか，の保証がない\n",
    "\n",
    "方法\n",
    "- 現在の場所から勾配方向に一定距離だけ進む\n",
    "- 移動した先で勾配を求め，またその勾配方向へ進む\n",
    "- 最小と思われる場所でなければ，最初に戻る\n",
    "\n",
    "#### 勾配法の数式表現\n",
    "\n",
    "$$x_0 = x_0 - \\eta\\frac{\\partial f}{\\partial x_0} $$\n",
    "$$x_1 = x_1 - \\eta\\frac{\\partial f}{\\partial x_1} $$\n",
    "\n",
    "ここで，$\\eta$は学習率(learning rate)と呼ばれ，更新の量を示す\n",
    "- 学習率は0.01や0.001などあらかじめ決めておく必要がある\n",
    "- 学習率は大きすぎても小さすぎてもダメ．いろいろ変更しながら確認作業を行うのが一般的"
   ]
  },
  {
   "cell_type": "code",
   "execution_count": 28,
   "metadata": {
    "collapsed": false
   },
   "outputs": [],
   "source": [
    "# 勾配法の実装\n",
    "# f: 最適化対象の関数\n",
    "# init_x: 初期値\n",
    "# lr: 学習率\n",
    "# step_num: 繰り返しの数\n",
    "# 返値：　最小となる点の座標（リスト），　および初期値から勾配に沿って移動した点の履歴（NumPy配列）\n",
    "def gradient_descent(f, init_x, lr=0.01, step_num=100):\n",
    "    x = init_x\n",
    "    x_history = []\n",
    "    \n",
    "    for i in range(step_num):\n",
    "        # 履歴を保存する(xはこの後に更新されるため，　x.copyで明示的にコピーを作って保存する)\n",
    "        x_history.append(x.copy())\n",
    "        \n",
    "        grad = numerical_gradient(f, x)\n",
    "        x -= lr * grad\n",
    "        \n",
    "    return x, np.array(x_history)"
   ]
  },
  {
   "cell_type": "code",
   "execution_count": 29,
   "metadata": {
    "collapsed": false,
    "scrolled": true
   },
   "outputs": [
    {
     "data": {
      "image/png": "[encoded data removed]",
      "text/plain": [
       "<matplotlib.figure.Figure at 0x1371e7860>"
      ]
     },
     "metadata": {},
     "output_type": "display_data"
    },
    {
     "name": "stdout",
     "output_type": "stream",
     "text": [
      "[ -6.11110793e-10   8.14814391e-10]\n"
     ]
    }
   ],
   "source": [
    "# function_2 の最小値を勾配法で求めてみる\n",
    "init_x = np.array([-3.0, 4.0])\n",
    "x, x_history = gradient_descent(function_2, init_x=init_x, lr=0.1, step_num=100)\n",
    "\n",
    "# (-5, 0) と　(5, 0) とを結ぶ青い破線をプロット\n",
    "plt.plot([-5, 5], [0, 0], '--b')\n",
    "# (0, -5) と　(0, 5) とを結ぶ青い破線をプロット\n",
    "plt.plot([0, 0], [-5, 5], '--b')\n",
    "# 点の移動履歴を表す点群をプロット\n",
    "plt.plot(x_history[:, 0], x_history[:,1], 'o')\n",
    "\n",
    "plt.xlim(-3.5, 3.5)\n",
    "plt.ylim(-4.5, 4.5)\n",
    "plt.xlabel(\"X0\")\n",
    "plt.ylabel(\"X1\")\n",
    "plt.show()\n",
    "print(x)"
   ]
  },
  {
   "cell_type": "markdown",
   "metadata": {},
   "source": [
    "#### ハイパーパラメータ\n",
    "\n",
    "- 人手で設定されるパラメータのこと（例：学習率）\n",
    "    - 重みやバイアスのようなパラメータは学習アルゴリズムで自動的に決定される\n",
    "- 一般にはハイパーパラメータを色々変えて試しながら学習できるケースを探す作業が必要になる"
   ]
  },
  {
   "cell_type": "code",
   "execution_count": 30,
   "metadata": {
    "collapsed": false
   },
   "outputs": [
    {
     "data": {
      "image/png": "[encoded data removed]",
      "text/plain": [
       "<matplotlib.figure.Figure at 0x13cacf358>"
      ]
     },
     "metadata": {},
     "output_type": "display_data"
    },
    {
     "name": "stdout",
     "output_type": "stream",
     "text": [
      "[ -2.58983747e+13  -1.29524862e+12]\n"
     ]
    }
   ],
   "source": [
    "# 学習率が大きすぎる例(lr=10)\n",
    "init_x = np.array([-3.0, 4.0])\n",
    "x, x_history = gradient_descent(function_2, init_x=init_x, lr=10, step_num=50)\n",
    "\n",
    "# (-5, 0) と　(5, 0) とを結ぶ青い破線をプロット\n",
    "plt.plot([-5, 5], [0, 0], '--b')\n",
    "# (0, -5) と　(0, 5) とを結ぶ青い破線をプロット\n",
    "plt.plot([0, 0], [-5, 5], '--b')\n",
    "# 点の移動履歴を表す点群をプロット\n",
    "plt.plot(x_history[:, 0], x_history[:,1], 'o')\n",
    "\n",
    "plt.xlabel(\"X0\")\n",
    "plt.ylabel(\"X1\")\n",
    "plt.show()\n",
    "print(x)"
   ]
  },
  {
   "cell_type": "code",
   "execution_count": 31,
   "metadata": {
    "collapsed": false
   },
   "outputs": [
    {
     "data": {
      "image/png": "[encoded data removed]",
      "text/plain": [
       "<matplotlib.figure.Figure at 0x13c609ef0>"
      ]
     },
     "metadata": {},
     "output_type": "display_data"
    },
    {
     "name": "stdout",
     "output_type": "stream",
     "text": [
      "[-2.71424045  3.61898727]\n"
     ]
    }
   ],
   "source": [
    "# 学習率が小さすぎる例\n",
    "init_x = np.array([-3.0, 4.0])\n",
    "x, x_history = gradient_descent(function_2, init_x=init_x, lr=1e-3, step_num=50)\n",
    "\n",
    "# (-5, 0) と　(5, 0) とを結ぶ青い破線をプロット\n",
    "plt.plot([-5, 5], [0, 0], '--b')\n",
    "# (0, -5) と　(0, 5) とを結ぶ青い破線をプロット\n",
    "plt.plot([0, 0], [-5, 5], '--b')\n",
    "# 点の移動履歴を表す点群をプロット\n",
    "plt.plot(x_history[:, 0], x_history[:,1], 'yo')\n",
    "\n",
    "plt.xlabel(\"X0\")\n",
    "plt.ylabel(\"X1\")\n",
    "plt.show()\n",
    "print(x)"
   ]
  },
  {
   "cell_type": "markdown",
   "metadata": {},
   "source": [
    "### 4.4.2 ニューラルネットワークに対する勾配\n",
    "\n",
    "ニューラルネットワークに対する勾配を計算する．\n",
    "\n",
    "形状が$2 \\times 3$の重み$\\bf W$をもつニューラルネットワークがあり，その損失関数を$L$とすると重みパラメータおよび勾配は次の様に表現される\n",
    "\n",
    "$${\\bf W} = \n",
    " \\left(\n",
    "    \\begin{array}{ccc}\n",
    "      w_{11} & w_{21} & w_{31} \\\\\n",
    "      w_{12} & w_{22} & w_{32}\n",
    "    \\end{array}\n",
    "  \\right)\n",
    "$$\n",
    "\n",
    "$$\\frac{\\partial L}{\\partial {\\bf W}} = \n",
    " \\left(\n",
    "    \\begin{array}{ccc}\n",
    "      \\frac{\\partial L}{\\partial w_{11}} & \\frac{\\partial L}{\\partial w_{21}} & \\frac{\\partial L}{\\partial w_{31}} \\\\\n",
    "      \\frac{\\partial L}{\\partial w_{12}} & \\frac{\\partial L}{\\partial w_{22}} & \\frac{\\partial L}{\\partial w_{32}}\n",
    "    \\end{array}\n",
    "  \\right)\n",
    "$$\n",
    "\n",
    "特徴\n",
    "- $\\frac{\\partial L}{\\partial {\\bf W}}$の各要素はそれぞれの要素に対する偏微分から構成される．\n",
    "- $\\frac{\\partial L}{\\partial {\\bf W}}$の形状は元の${\\bf W}$と同じ$2 \\times 3$となる\n"
   ]
  },
  {
   "cell_type": "code",
   "execution_count": 30,
   "metadata": {
    "collapsed": true
   },
   "outputs": [],
   "source": [
    "# ソフトマックス関数(再掲)\n",
    "def softmax(x):\n",
    "    if x.ndim == 2:\n",
    "        x = x.T\n",
    "        x = x - np.max(x, axis=0)\n",
    "        y = np.exp(x) / np.sum(np.exp(x), axis=0)\n",
    "        return y.T \n",
    "    \n",
    "    x = x - np.max(x) # オーバーフロー対策\n",
    "    return np.exp(x) / np.sum(np.exp(x))"
   ]
  },
  {
   "cell_type": "code",
   "execution_count": 31,
   "metadata": {
    "collapsed": false
   },
   "outputs": [],
   "source": [
    "# ニューラルネットワークの勾配を求めてみる\n",
    "import sys, os\n",
    "sys.path.append(os.pardir)\n",
    "import numpy as np\n",
    "\n",
    "class simpleNet:\n",
    "    def __init__(self):\n",
    "        # randn 関数は標準正規分布の配列（この場合は2x3の配列）を生成する．以下を参照\n",
    "        # https://docs.scipy.org/doc/numpy/reference/generated/numpy.random.randn.html#numpy.random.randn\n",
    "        self.W = np.random.randn(2,3)\n",
    "    \n",
    "    # 順方向伝播(forward propagation)\n",
    "    def predict(self, x):\n",
    "        return np.dot(x, self.W)\n",
    "    \n",
    "    # 損失関数\n",
    "    def loss(self, x, t):\n",
    "        z = self.predict(x)\n",
    "        y = softmax(z)\n",
    "        loss = cross_entropy_error(y, t)\n",
    "        \n",
    "        return loss"
   ]
  },
  {
   "cell_type": "code",
   "execution_count": 36,
   "metadata": {
    "collapsed": false
   },
   "outputs": [
    {
     "name": "stdout",
     "output_type": "stream",
     "text": [
      "net.W = \n",
      "[[-1.00516303 -0.71492906  0.15968291]\n",
      " [-0.39209924 -0.57692989 -1.22176703]]\n",
      "\n",
      "p = [-0.95598713 -0.94819434 -1.00378058]\n",
      "np.argmax(p) = 1\n",
      "net.loss(x, t) = 1.13337247731\n",
      "\n",
      "dW = \n",
      "[[ 0.20262371  0.20420889 -0.4068326 ]\n",
      " [ 0.30393557  0.30631333 -0.6102489 ]]\n"
     ]
    }
   ],
   "source": [
    "# simpleNetクラスの生成．重みパラメータを自動生成\n",
    "net = simpleNet()\n",
    "print(\"net.W = \\n\" + str(net.W) + \"\\n\")\n",
    "\n",
    "# 　ニューラルネットへの入力　x\n",
    "x = np.array([0.6, 0.9])\n",
    "\n",
    "# 入力から順方向伝播による出力pを得る\n",
    "p = net.predict(x)\n",
    "print(\"p = \" + str(p))\n",
    "\n",
    "# 出力を活性化関数に入力\n",
    "print(\"np.argmax(p) = \" + str(np.argmax(p)))\n",
    "\n",
    "# 正解ラベル\n",
    "t = np.array([0,0,1])\n",
    "\n",
    "# 損失関数の評価\n",
    "print(\"net.loss(x, t) = \" + str(net.loss(x, t)) + \"\\n\")\n",
    "\n",
    "# 勾配の計算.numerical_gradientに渡すための関数を定義する\n",
    "def f(W):\n",
    "    return net.loss(x, t)\n",
    "\n",
    "#dW = numerical_gradient(lambda w: net.loss(x,t), net.W)\n",
    "dW = numerical_gradient(f, net.W)\n",
    "print(\"dW = \\n\" + str(dW))"
   ]
  },
  {
   "cell_type": "markdown",
   "metadata": {},
   "source": [
    "上のコードで計算したdWの値をみると，同じ行の要素が全て同じ値になっているのがわかる．\n",
    "これは以前に定義したnumerical_gradient関数が多次元配列に対応していないため．\n",
    "\n",
    "なので，下の多次元配列に対応したnumerical_gradientを実行したのちに，再度上のプログラムを実行してdWの値を確認してみる．"
   ]
  },
  {
   "cell_type": "code",
   "execution_count": 35,
   "metadata": {
    "collapsed": true
   },
   "outputs": [],
   "source": [
    "# 多次元配列に対応した numerical_gradient 関数\n",
    "def numerical_gradient(f, x):\n",
    "    h = 1e-4 # 0.0001\n",
    "    grad = np.zeros_like(x)\n",
    "    \n",
    "    #　多次元配列に対応するため，NumPyで提供されるnditerというイテレータオブジェクトを使用する\n",
    "    # https://docs.scipy.org/doc/numpy/reference/arrays.nditer.html\n",
    "    # https://docs.scipy.org/doc/numpy/reference/generated/numpy.nditer.html#numpy.nditer\n",
    "    # multi_index は多重インデックスに対応する\n",
    "    it = np.nditer(x, flags=['multi_index'], op_flags=['readwrite'])\n",
    "    while not it.finished:\n",
    "        # インデックスの取得（多次元配列に対応したインデックスの組が得られる）\n",
    "        idx = it.multi_index\n",
    "        # print(\"idx = \" + str(idx))\n",
    "        tmp_val = x[idx]\n",
    "        x[idx] = float(tmp_val) + h\n",
    "        fxh1 = f(x) # f(x+h)\n",
    "        \n",
    "        x[idx] = tmp_val - h \n",
    "        fxh2 = f(x) # f(x-h)\n",
    "        grad[idx] = (fxh1 - fxh2) / (2*h)\n",
    "        \n",
    "        x[idx] = tmp_val # 値を元に戻す\n",
    "        \n",
    "        # 次の繰り返しが存在するかどうかの確認\n",
    "        it.iternext()   \n",
    "        \n",
    "    return grad"
   ]
  },
  {
   "cell_type": "markdown",
   "metadata": {},
   "source": [
    "####　重み行列に対する勾配の計算でわかること\n",
    "\n",
    "- 配列の次元は変わらない\n",
    "- 勾配の行列dWの各要素は，重みを一定量変化させた時の損失関数の変化量を示す．\n",
    "    - 例えば$\\frac{\\partial L}{\\partial w_{11}}$が0.2のとき，$w_{11}$を$h$だけ増やすと損失関数は$0.2h$だけ増加するという意味になる\n",
    "    - 勾配の要素の値が大きいほど更新の度合いに寄与する割合が高い    "
   ]
  },
  {
   "cell_type": "markdown",
   "metadata": {},
   "source": [
    "## 4.5 学習アルゴリズムの実装\n",
    "\n",
    "#### ニューラルネットワークの学習手順（確率的勾配降下法, stochastic gradient descent, SGD）\n",
    "\n",
    "目的\n",
    "- ある重みとバイアスを持ったニューラルネットが存在し，学習で重みとバイアスとを学習（データに合わせた調整）させる．\n",
    "\n",
    "手順\n",
    "1. 訓練データの中から無作為にミニバッチを選び出す\n",
    "    - 無作為に選び出している点が「確率的」という名称の由来となっている\n",
    "2. 各重みパラメータの勾配を求める\n",
    "3. 重みパラメータを勾配方向に微小量だけ更新する\n",
    "4. ステップ1から3を繰り返す\n",
    "    - 繰り返しの終了条件が書いていないが，ここでは触れない\n"
   ]
  },
  {
   "cell_type": "markdown",
   "metadata": {},
   "source": [
    "### 4.5.1 2層ニューラルネットワークのクラス\n",
    "\n",
    "ニューラルネットワークをクラス（TwoLayerNet）として実装する"
   ]
  },
  {
   "cell_type": "code",
   "execution_count": 40,
   "metadata": {
    "collapsed": true
   },
   "outputs": [],
   "source": [
    "# sigmoid 関数（第３章より）\n",
    "def sigmoid(x):\n",
    "    return 1 / (1 + np.exp(-x))   "
   ]
  },
  {
   "cell_type": "code",
   "execution_count": 46,
   "metadata": {
    "collapsed": true
   },
   "outputs": [],
   "source": [
    "# gradient 関数を使う場合に必要なので，ここで用意しておく（説明は次章）\n",
    "def sigmoid_grad(x):\n",
    "    return (1.0 - sigmoid(x)) * sigmoid(x)"
   ]
  },
  {
   "cell_type": "code",
   "execution_count": 41,
   "metadata": {
    "collapsed": false
   },
   "outputs": [],
   "source": [
    "# coding: utf-8\n",
    "\n",
    "class TwoLayerNet:\n",
    "    # コンストラクタ\n",
    "    # input_size :  入力層のデータ個数\n",
    "    # hidden_size: 隠れ層のニューロンの個数\n",
    "    # output_size : 出力層のデータ個数\n",
    "    # weight_init_std : 重みの初期値に掛け合わせる係数\n",
    "    def __init__(self, input_size, hidden_size, output_size, weight_init_std=0.01):\n",
    "        # 重みの初期化\n",
    "        self.params = {}\n",
    "        self.params['W1'] = weight_init_std * np.random.randn(input_size, hidden_size)\n",
    "        self.params['b1'] = np.zeros(hidden_size)\n",
    "        self.params['W2'] = weight_init_std * np.random.randn(hidden_size, output_size)\n",
    "        self.params['b2'] = np.zeros(output_size)\n",
    "\n",
    "    # forward propagation\n",
    "    def predict(self, x):\n",
    "        W1, W2 = self.params['W1'], self.params['W2']\n",
    "        b1, b2 = self.params['b1'], self.params['b2']\n",
    "    \n",
    "        a1 = np.dot(x, W1) + b1\n",
    "        z1 = sigmoid(a1)\n",
    "        a2 = np.dot(z1, W2) + b2\n",
    "        y = softmax(a2)\n",
    "        \n",
    "        return y\n",
    "        \n",
    "    # loss funtion\n",
    "    # x:入力データ, t:教師データ\n",
    "    def loss(self, x, t):\n",
    "        y = self.predict(x)\n",
    "        \n",
    "        return cross_entropy_error(y, t)\n",
    "    \n",
    "    # 成功率の計算\n",
    "    def accuracy(self, x, t):\n",
    "        y = self.predict(x)\n",
    "        y = np.argmax(y, axis=1)\n",
    "        t = np.argmax(t, axis=1)\n",
    "        \n",
    "        accuracy = np.sum(y == t) / float(x.shape[0])\n",
    "        return accuracy\n",
    "    \n",
    "    #　勾配の計算\n",
    "    # x:入力データ, t:教師データ\n",
    "    def numerical_gradient(self, x, t):\n",
    "        loss_W = lambda W: self.loss(x, t)\n",
    "        \n",
    "        grads = {}\n",
    "        grads['W1'] = numerical_gradient(loss_W, self.params['W1'])\n",
    "        grads['b1'] = numerical_gradient(loss_W, self.params['b1'])\n",
    "        grads['W2'] = numerical_gradient(loss_W, self.params['W2'])\n",
    "        grads['b2'] = numerical_gradient(loss_W, self.params['b2'])\n",
    "        \n",
    "        return grads\n",
    "        \n",
    "    #  勾配の計算（高速版，次章で扱う）\n",
    "    def gradient(self, x, t):\n",
    "        W1, W2 = self.params['W1'], self.params['W2']\n",
    "        b1, b2 = self.params['b1'], self.params['b2']\n",
    "        grads = {}\n",
    "        \n",
    "        batch_num = x.shape[0]\n",
    "        \n",
    "        # forward\n",
    "        a1 = np.dot(x, W1) + b1\n",
    "        z1 = sigmoid(a1)\n",
    "        a2 = np.dot(z1, W2) + b2\n",
    "        y = softmax(a2)\n",
    "        \n",
    "        # backward\n",
    "        dy = (y - t) / batch_num\n",
    "        grads['W2'] = np.dot(z1.T, dy)\n",
    "        grads['b2'] = np.sum(dy, axis=0)\n",
    "        \n",
    "        da1 = np.dot(dy, W2.T)\n",
    "        dz1 = sigmoid_grad(a1) * da1\n",
    "        grads['W1'] = np.dot(x.T, dz1)\n",
    "        grads['b1'] = np.sum(dz1, axis=0)\n",
    "\n",
    "        return grads"
   ]
  },
  {
   "cell_type": "code",
   "execution_count": 42,
   "metadata": {
    "collapsed": false,
    "scrolled": false
   },
   "outputs": [
    {
     "name": "stdout",
     "output_type": "stream",
     "text": [
      "W1.shape = (784, 100)\n",
      "b1.shape = (100,)\n",
      "W2.shape = (100, 10)\n",
      "b2.shape = (10,)\n"
     ]
    }
   ],
   "source": [
    "# 使用例\n",
    "net = TwoLayerNet(input_size=784, hidden_size=100, output_size=10)\n",
    "print(\"W1.shape = \" + str(net.params['W1'].shape))\n",
    "print(\"b1.shape = \" + str(net.params['b1'].shape))\n",
    "print(\"W2.shape = \" + str(net.params['W2'].shape))\n",
    "print(\"b2.shape = \" + str(net.params['b2'].shape))"
   ]
  },
  {
   "cell_type": "code",
   "execution_count": 43,
   "metadata": {
    "collapsed": false
   },
   "outputs": [
    {
     "name": "stdout",
     "output_type": "stream",
     "text": [
      "W1.shape = (784, 100)\n",
      "b1.shape = (100,)\n",
      "W2.shape = (100, 10)\n",
      "b2.shape = (10,)\n"
     ]
    }
   ],
   "source": [
    "# ダミーの入力データ\n",
    "x = np.random.rand(100, 784)\n",
    "#  ダミーの正解ラベル\n",
    "t = np.random.rand(100, 10)\n",
    "\n",
    "#　推論処理\n",
    "y = net.predict(x)\n",
    "grads = net.numerical_gradient(x, t)\n",
    "print(\"W1.shape = \" + str(grads['W1'].shape))\n",
    "print(\"b1.shape = \" + str(grads['b1'].shape))\n",
    "print(\"W2.shape = \" + str(grads['W2'].shape))\n",
    "print(\"b2.shape = \" + str(grads['b2'].shape))"
   ]
  },
  {
   "cell_type": "markdown",
   "metadata": {},
   "source": [
    "### 4.5.2 ミニバッチ学習の実装\n",
    "\n",
    "おさらい\n",
    "- ニューラルネットワークの学習の実装はミニバッチ学習で行う\n",
    "    - ミニバッチ学習とは，無作為に取り出した一部のデータを対象に勾配法を使って重みパラメータを更新すること\n",
    "\n",
    "ここでは，MNISTデータセットを使って学習を行う\n",
    "\n",
    "- ミニバッチのサイズを100として，60000個のデータから100個をランダムに抜き出して学習する．\n",
    "- 学習の繰り返し回数を10000回繰り返す．"
   ]
  },
  {
   "cell_type": "code",
   "execution_count": 47,
   "metadata": {
    "collapsed": false
   },
   "outputs": [
    {
     "name": "stdout",
     "output_type": "stream",
     "text": [
      "train acc, test acc | 0.0973666666667, 0.0982\n",
      "train acc, test acc | 0.793133333333, 0.7994\n",
      "train acc, test acc | 0.877016666667, 0.8827\n",
      "train acc, test acc | 0.900683333333, 0.9034\n",
      "train acc, test acc | 0.907866666667, 0.9112\n",
      "train acc, test acc | 0.915083333333, 0.9179\n",
      "train acc, test acc | 0.920116666667, 0.9228\n",
      "train acc, test acc | 0.924983333333, 0.9257\n",
      "train acc, test acc | 0.928633333333, 0.9306\n",
      "train acc, test acc | 0.9314, 0.9325\n",
      "train acc, test acc | 0.934333333333, 0.9352\n",
      "train acc, test acc | 0.936966666667, 0.9378\n",
      "train acc, test acc | 0.939283333333, 0.9392\n",
      "train acc, test acc | 0.940866666667, 0.9409\n",
      "train acc, test acc | 0.942933333333, 0.9416\n",
      "train acc, test acc | 0.94535, 0.944\n",
      "train acc, test acc | 0.94745, 0.945\n"
     ]
    }
   ],
   "source": [
    "# coding: utf-8\n",
    "import sys, os\n",
    "sys.path.append(os.pardir)  # 親ディレクトリのファイルをインポートするための設定\n",
    "import numpy as np\n",
    "import matplotlib.pyplot as plt\n",
    "from dataset.mnist import load_mnist\n",
    "\n",
    "# データの読み込み\n",
    "(x_train, t_train), (x_test, t_test) = load_mnist(normalize=True, one_hot_label=True)\n",
    "\n",
    "network = TwoLayerNet(input_size=784, hidden_size=50, output_size=10)\n",
    "\n",
    "# ハイパーパラメータ\n",
    "iters_num = 10000  # 繰り返しの回数を適宜設定する\n",
    "train_size = x_train.shape[0]\n",
    "batch_size = 100 # ミニバッチのサイズ\n",
    "learning_rate = 0.1 # 学習率\n",
    "\n",
    "# 学習履歴\n",
    "train_loss_list = []\n",
    "train_acc_list = []\n",
    "test_acc_list = []\n",
    "\n",
    "# 1エポックあたりの繰り返し数\n",
    "iter_per_epoch = max(train_size / batch_size, 1)\n",
    "\n",
    "for i in range(iters_num):\n",
    "    # 0から59999の数値からランダムに100個を抽出\n",
    "    batch_mask = np.random.choice(train_size, batch_size)\n",
    "    # ミニバッチの入力データと正解ラベルを取得\n",
    "    x_batch = x_train[batch_mask]\n",
    "    t_batch = t_train[batch_mask]\n",
    "    \n",
    "    # 勾配の計算（network.gradientは次章で扱う）\n",
    "    #grad = network.numerical_gradient(x_batch, t_batch)\n",
    "    grad = network.gradient(x_batch, t_batch)\n",
    "    \n",
    "    # パラメータの更新\n",
    "    for key in ('W1', 'b1', 'W2', 'b2'):\n",
    "        network.params[key] -= learning_rate * grad[key]\n",
    "    \n",
    "    # 損失関数を呼び出して交差エントロピー誤差を計算\n",
    "    loss = network.loss(x_batch, t_batch)\n",
    "    # 履歴として保存しておく\n",
    "    train_loss_list.append(loss)\n",
    "    \n",
    "    # 訓練データおよびテストデータに対する認識精度の計算\n",
    "    # 1エポック600回なので10000回繰り返す場合は17回ほど計算することになる\n",
    "    if i % iter_per_epoch == 0:\n",
    "        train_acc = network.accuracy(x_train, t_train)\n",
    "        test_acc = network.accuracy(x_test, t_test)\n",
    "        train_acc_list.append(train_acc)\n",
    "        test_acc_list.append(test_acc)\n",
    "        print(\"train acc, test acc | \" + str(train_acc) + \", \" + str(test_acc))"
   ]
  },
  {
   "cell_type": "code",
   "execution_count": 48,
   "metadata": {
    "collapsed": false
   },
   "outputs": [
    {
     "data": {
      "image/png": "[encoded data removed]",
      "text/plain": [
       "<matplotlib.figure.Figure at 0x1374f8ac8>"
      ]
     },
     "metadata": {},
     "output_type": "display_data"
    }
   ],
   "source": [
    "# 損失関数の推移をグラフに描画して，徐々に下がっていくことを確認\n",
    "x = np.arange(iters_num)\n",
    "plt.plot(x, train_loss_list)\n",
    "plt.xlabel(\"iteration\")\n",
    "plt.ylabel(\"loss\")\n",
    "plt.xlim(0, 10000)\n",
    "plt.ylim(0, 5)\n",
    "plt.show()"
   ]
  },
  {
   "cell_type": "markdown",
   "metadata": {},
   "source": [
    "### 4.5.3 テストデータで評価\n",
    "\n",
    "- 訓練データに対して学習がうまくいっていることは確認できた\n",
    "- 他のデータセットにも同じ程度の実力を発揮できるかどうかは不明\n",
    "- 訓練データ以外のデータに対しても識別がうまくいくことを確認する必要がある\n",
    "    - 識別できる様であれば，汎化能力があると見做すことができる\n",
    "    - 訓練データは識別できるが，それ以外のデータが識別できなければ「過学習」を起こしていることになる\n",
    "- 実装では，定期的に訓練データとテストデータとを対象に認識精度を記録する\n",
    "    - ここでは 60000/100 = 600回に1回記録を行う．繰り返し回数10000回では17回ほど計算することになる\n",
    "    - 600回繰り返すと，60000個のデータを全て見たことになる．この回数を**エポック(epoch)**という"
   ]
  },
  {
   "cell_type": "code",
   "execution_count": 49,
   "metadata": {
    "collapsed": false,
    "scrolled": true
   },
   "outputs": [
    {
     "data": {
      "image/png": "[encoded data removed]",
      "text/plain": [
       "<matplotlib.figure.Figure at 0x137522128>"
      ]
     },
     "metadata": {},
     "output_type": "display_data"
    }
   ],
   "source": [
    "# 認識精度の推移をグラフに描画し，認識精度が上がっていることを確認\n",
    "# 計算自体は先のプログラムで行なっているため，ここではプロットのみ\n",
    "markers = {'train': 'o', 'test': 's'}\n",
    "x = np.arange(len(train_acc_list))\n",
    "plt.plot(x, train_acc_list, label='train acc')\n",
    "plt.plot(x, test_acc_list, label='test acc', linestyle='--')\n",
    "plt.xlabel(\"epochs\")\n",
    "plt.ylabel(\"accuracy\")\n",
    "plt.ylim(0, 1.0)\n",
    "plt.legend(loc='lower right')\n",
    "plt.show()"
   ]
  },
  {
   "cell_type": "markdown",
   "metadata": {},
   "source": [
    "##### 確認\n",
    "\n",
    "ここでは認識精度に差がないため，汎化能力を有し，過学習が起きていないことが確認できた"
   ]
  },
  {
   "cell_type": "markdown",
   "metadata": {},
   "source": [
    "## 4.6 まとめ\n",
    "\n",
    "- テーマ：ニューラルネットワークの学習について\n",
    "- 損失関数\n",
    "    - 学習のための指標として損失関数を導入した．\n",
    "        - 損失関数として2乗和誤差や交差エントロピー誤差がある．\n",
    "    - 学習の目標は損失関数の値がもっとも小さくなる重みパラメータを探し出すことである\n",
    "- 勾配法\n",
    "    - 損失関数の最小値を探し出す手法として勾配法がある． 勾配法は関数の傾きを使った手法である．\n",
    "    - 学習は損失関数の値が小さくなるように重みパラメータを更新する\n",
    "    - 重みパラメータの更新には，重みパラメータの勾配を利用し，勾配方向に重みの値を更新する作業を繰り返す\n",
    "- 数値微分\n",
    "    - 重みパラメータの勾配を求めるために数値微分を行う\n",
    "    - 数値微分とは，微小な値を与えた時の差分によって微分を求めることである\n",
    "    - 数値微分による計算は実装は簡単だが時間がかかる．　　\n",
    "- 学習\n",
    "    - 確率的勾配降下法を呼ばれる学習方法を用いた\n",
    "    - 学習は全データセットの一部を取り出して行うミニバッチ学習で行う\n",
    "    - データセットは，訓練データ（教師データ）とテストデータに分けて使用する\n",
    "        - 訓練データで学習を行い，　モデルの汎化能力をテストデータで評価する\n",
    "- 次章では高速に勾配を求めるための手法として誤差逆伝搬法を扱う．"
   ]
  },
  {
   "cell_type": "code",
   "execution_count": null,
   "metadata": {
    "collapsed": true
   },
   "outputs": [],
   "source": []
  }
 ],
 "metadata": {
  "kernelspec": {
   "display_name": "Python 3",
   "language": "python",
   "name": "python3"
  },
  "language_info": {
   "codemirror_mode": {
    "name": "ipython",
    "version": 3
   },
   "file_extension": ".py",
   "mimetype": "text/x-python",
   "name": "python",
   "nbconvert_exporter": "python",
   "pygments_lexer": "ipython3",
   "version": "3.6.0"
  }
 },
 "nbformat": 4,
 "nbformat_minor": 2
}
