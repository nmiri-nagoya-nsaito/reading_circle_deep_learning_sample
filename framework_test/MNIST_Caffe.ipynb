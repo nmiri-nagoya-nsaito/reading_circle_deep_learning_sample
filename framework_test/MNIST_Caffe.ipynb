{
 "cells": [
  {
   "cell_type": "markdown",
   "metadata": {},
   "source": [
    "# PythonでCaffeを使ったMNISTサンプル\n",
    "参考\n",
    "http://nbviewer.jupyter.org/github/BVLC/caffe/blob/master/examples/01-learning-lenet.ipynb"
   ]
  },
  {
   "cell_type": "code",
   "execution_count": 2,
   "metadata": {
    "collapsed": true
   },
   "outputs": [],
   "source": [
    "from pylab import *\n",
    "%matplotlib inline"
   ]
  },
  {
   "cell_type": "code",
   "execution_count": 4,
   "metadata": {},
   "outputs": [
    {
     "name": "stdout",
     "output_type": "stream",
     "text": [
      "fatal: destination path 'caffe' already exists and is not an empty directory.\r\n"
     ]
    }
   ],
   "source": [
    "!git clone https://github.com/BVLC/caffe.git"
   ]
  },
  {
   "cell_type": "code",
   "execution_count": 5,
   "metadata": {},
   "outputs": [
    {
     "name": "stdout",
     "output_type": "stream",
     "text": [
      "CMakeLists.txt\tclassify.py  draw_net.py       train.py\r\n",
      "caffe\t\tdetect.py    requirements.txt\r\n"
     ]
    }
   ],
   "source": [
    "!ls caffe/python"
   ]
  },
  {
   "cell_type": "code",
   "execution_count": 3,
   "metadata": {
    "collapsed": true
   },
   "outputs": [],
   "source": [
    "caffe_root = '/workspace/caffe'  # this file should be run from {caffe_root}/examples (otherwise change this line)\n",
    "\n",
    "import sys\n",
    "sys.path.insert(0, caffe_root + 'python')\n",
    "import caffe"
   ]
  },
  {
   "cell_type": "code",
   "execution_count": 4,
   "metadata": {},
   "outputs": [
    {
     "name": "stdout",
     "output_type": "stream",
     "text": [
      "Downloading...\r\n"
     ]
    }
   ],
   "source": [
    "# run scripts from caffe root\n",
    "import os\n",
    "os.chdir(caffe_root)\n",
    "# Download data\n",
    "!data/mnist/get_mnist.sh"
   ]
  },
  {
   "cell_type": "code",
   "execution_count": 29,
   "metadata": {
    "collapsed": true
   },
   "outputs": [],
   "source": [
    "# Makefile.config を編集する(ここではGPUを使わないのでCPUモードで動かすための編集)\n",
    "# (1) CPU_ONLYの行をコメント解除\n",
    "# (2) INCLUDE_DIRS に /usr/include/hdf5/serial/ を追加\n",
    "# (3) LIBRARY_DIRS に Makefile/usr/lib/x86_64-linux-gnu/hdf5/serial/ を追加\n",
    "!cp -a Makefile.config.example Makefile.config"
   ]
  },
  {
   "cell_type": "code",
   "execution_count": 57,
   "metadata": {},
   "outputs": [
    {
     "name": "stdout",
     "output_type": "stream",
     "text": [
      "PROTOC src/caffe/proto/caffe.proto\n",
      "CXX .build_release/src/caffe/proto/caffe.pb.cc\n",
      "CXX src/caffe/data_transformer.cpp\n",
      "CXX src/caffe/layer_factory.cpp\n",
      "CXX src/caffe/internal_thread.cpp\n",
      "CXX src/caffe/layer.cpp\n",
      "CXX src/caffe/layers/slice_layer.cpp\n",
      "CXX src/caffe/layers/batch_norm_layer.cpp\n",
      "CXX src/caffe/layers/cudnn_softmax_layer.cpp\n",
      "CXX src/caffe/layers/cudnn_pooling_layer.cpp\n",
      "CXX src/caffe/layers/cudnn_tanh_layer.cpp\n",
      "CXX src/caffe/layers/accuracy_layer.cpp\n",
      "CXX src/caffe/layers/dropout_layer.cpp\n",
      "CXX src/caffe/layers/scale_layer.cpp\n",
      "CXX src/caffe/layers/embed_layer.cpp\n",
      "CXX src/caffe/layers/input_layer.cpp\n",
      "CXX src/caffe/layers/recurrent_layer.cpp\n",
      "CXX src/caffe/layers/argmax_layer.cpp\n",
      "CXX src/caffe/layers/eltwise_layer.cpp\n",
      "CXX src/caffe/layers/rnn_layer.cpp\n",
      "CXX src/caffe/layers/lrn_layer.cpp\n",
      "CXX src/caffe/layers/dummy_data_layer.cpp\n",
      "CXX src/caffe/layers/mvn_layer.cpp\n",
      "CXX src/caffe/layers/tanh_layer.cpp\n",
      "CXX src/caffe/layers/tile_layer.cpp\n",
      "CXX src/caffe/layers/bnll_layer.cpp\n",
      "CXX src/caffe/layers/memory_data_layer.cpp\n",
      "CXX src/caffe/layers/batch_reindex_layer.cpp\n",
      "CXX src/caffe/layers/loss_layer.cpp\n",
      "CXX src/caffe/layers/hdf5_data_layer.cpp\n",
      "CXX src/caffe/layers/cudnn_lrn_layer.cpp\n",
      "CXX src/caffe/layers/inner_product_layer.cpp\n",
      "CXX src/caffe/layers/sigmoid_cross_entropy_loss_layer.cpp\n",
      "CXX src/caffe/layers/cudnn_conv_layer.cpp\n",
      "CXX src/caffe/layers/softmax_layer.cpp\n",
      "CXX src/caffe/layers/exp_layer.cpp\n",
      "CXX src/caffe/layers/base_conv_layer.cpp\n",
      "CXX src/caffe/layers/flatten_layer.cpp\n",
      "CXX src/caffe/layers/conv_layer.cpp\n",
      "CXX src/caffe/layers/image_data_layer.cpp\n",
      "CXX src/caffe/layers/data_layer.cpp\n",
      "CXX src/caffe/layers/base_data_layer.cpp\n",
      "CXX src/caffe/layers/contrastive_loss_layer.cpp\n",
      "CXX src/caffe/layers/filter_layer.cpp\n",
      "CXX src/caffe/layers/pooling_layer.cpp\n",
      "CXX src/caffe/layers/hdf5_output_layer.cpp\n",
      "CXX src/caffe/layers/crop_layer.cpp\n",
      "CXX src/caffe/layers/prelu_layer.cpp\n",
      "CXX src/caffe/layers/log_layer.cpp\n",
      "CXX src/caffe/layers/silence_layer.cpp\n",
      "CXX src/caffe/layers/split_layer.cpp\n",
      "CXX src/caffe/layers/deconv_layer.cpp\n",
      "CXX src/caffe/layers/reshape_layer.cpp\n",
      "CXX src/caffe/layers/sigmoid_layer.cpp\n",
      "CXX src/caffe/layers/neuron_layer.cpp\n",
      "CXX src/caffe/layers/absval_layer.cpp\n",
      "CXX src/caffe/layers/power_layer.cpp\n",
      "CXX src/caffe/layers/parameter_layer.cpp\n",
      "CXX src/caffe/layers/elu_layer.cpp\n",
      "CXX src/caffe/layers/relu_layer.cpp\n",
      "CXX src/caffe/layers/cudnn_relu_layer.cpp\n",
      "CXX src/caffe/layers/bias_layer.cpp\n",
      "CXX src/caffe/layers/multinomial_logistic_loss_layer.cpp\n",
      "CXX src/caffe/layers/threshold_layer.cpp\n",
      "CXX src/caffe/layers/infogain_loss_layer.cpp\n",
      "CXX src/caffe/layers/lstm_unit_layer.cpp\n",
      "CXX src/caffe/layers/im2col_layer.cpp\n",
      "CXX src/caffe/layers/lstm_layer.cpp\n",
      "CXX src/caffe/layers/softmax_loss_layer.cpp\n",
      "CXX src/caffe/layers/concat_layer.cpp\n",
      "CXX src/caffe/layers/spp_layer.cpp\n",
      "CXX src/caffe/layers/reduction_layer.cpp\n",
      "CXX src/caffe/layers/cudnn_sigmoid_layer.cpp\n",
      "CXX src/caffe/layers/window_data_layer.cpp\n",
      "CXX src/caffe/layers/hinge_loss_layer.cpp\n",
      "CXX src/caffe/layers/euclidean_loss_layer.cpp\n",
      "CXX src/caffe/layers/cudnn_lcn_layer.cpp\n",
      "CXX src/caffe/parallel.cpp\n",
      "CXX src/caffe/syncedmem.cpp\n",
      "CXX src/caffe/solver.cpp\n",
      "CXX src/caffe/blob.cpp\n",
      "CXX src/caffe/common.cpp\n",
      "CXX src/caffe/net.cpp\n",
      "CXX src/caffe/solvers/sgd_solver.cpp\n",
      "CXX src/caffe/solvers/rmsprop_solver.cpp\n",
      "CXX src/caffe/solvers/adam_solver.cpp\n",
      "CXX src/caffe/solvers/adagrad_solver.cpp\n",
      "CXX src/caffe/solvers/nesterov_solver.cpp\n",
      "CXX src/caffe/solvers/adadelta_solver.cpp\n",
      "CXX src/caffe/util/hdf5.cpp\n",
      "CXX src/caffe/util/blocking_queue.cpp\n",
      "CXX src/caffe/util/cudnn.cpp\n",
      "CXX src/caffe/util/db_lmdb.cpp\n",
      "CXX src/caffe/util/db_leveldb.cpp\n",
      "CXX src/caffe/util/io.cpp\n",
      "CXX src/caffe/util/math_functions.cpp\n",
      "CXX src/caffe/util/benchmark.cpp\n",
      "CXX src/caffe/util/insert_splits.cpp\n",
      "CXX src/caffe/util/upgrade_proto.cpp\n",
      "CXX src/caffe/util/im2col.cpp\n",
      "CXX src/caffe/util/signal_handler.cpp\n",
      "CXX src/caffe/util/db.cpp\n",
      "AR -o .build_release/lib/libcaffe.a\n",
      "LD -o .build_release/lib/libcaffe.so.1.0.0\n",
      "CXX tools/device_query.cpp\n",
      "CXX/LD -o .build_release/tools/device_query.bin\n",
      "CXX tools/compute_image_mean.cpp\n",
      "CXX/LD -o .build_release/tools/compute_image_mean.bin\n",
      "CXX tools/upgrade_solver_proto_text.cpp\n",
      "CXX/LD -o .build_release/tools/upgrade_solver_proto_text.bin\n",
      "CXX tools/caffe.cpp\n",
      "CXX/LD -o .build_release/tools/caffe.bin\n",
      "CXX tools/test_net.cpp\n",
      "CXX/LD -o .build_release/tools/test_net.bin\n",
      "CXX tools/finetune_net.cpp\n",
      "CXX/LD -o .build_release/tools/finetune_net.bin\n",
      "CXX tools/convert_imageset.cpp\n",
      "CXX/LD -o .build_release/tools/convert_imageset.bin\n",
      "CXX tools/extract_features.cpp\n",
      "CXX/LD -o .build_release/tools/extract_features.bin\n",
      "CXX tools/upgrade_net_proto_binary.cpp\n",
      "CXX/LD -o .build_release/tools/upgrade_net_proto_binary.bin\n",
      "CXX tools/upgrade_net_proto_text.cpp\n",
      "CXX/LD -o .build_release/tools/upgrade_net_proto_text.bin\n",
      "CXX tools/net_speed_benchmark.cpp\n",
      "CXX/LD -o .build_release/tools/net_speed_benchmark.bin\n",
      "CXX tools/train_net.cpp\n",
      "CXX/LD -o .build_release/tools/train_net.bin\n",
      "CXX examples/cifar10/convert_cifar_data.cpp\n",
      "CXX/LD -o .build_release/examples/cifar10/convert_cifar_data.bin\n",
      "CXX examples/siamese/convert_mnist_siamese_data.cpp\n",
      "CXX/LD -o .build_release/examples/siamese/convert_mnist_siamese_data.bin\n",
      "CXX examples/cpp_classification/classification.cpp\n",
      "CXX/LD -o .build_release/examples/cpp_classification/classification.bin\n",
      "CXX examples/mnist/convert_mnist_data.cpp\n",
      "CXX/LD -o .build_release/examples/mnist/convert_mnist_data.bin\n"
     ]
    }
   ],
   "source": [
    "# Caffeのビルド\n",
    "!make"
   ]
  },
  {
   "cell_type": "code",
   "execution_count": 5,
   "metadata": {},
   "outputs": [
    {
     "name": "stdout",
     "output_type": "stream",
     "text": [
      "Creating lmdb...\n",
      "I0821 16:37:42.743120  3836 db_lmdb.cpp:35] Opened lmdb examples/mnist/mnist_train_lmdb\n",
      "I0821 16:37:42.743858  3836 convert_mnist_data.cpp:88] A total of 60000 items.\n",
      "I0821 16:37:42.744338  3836 convert_mnist_data.cpp:89] Rows: 28 Cols: 28\n",
      "I0821 16:37:46.287730  3836 convert_mnist_data.cpp:108] Processed 60000 files.\n",
      "I0821 16:37:46.445912  3838 db_lmdb.cpp:35] Opened lmdb examples/mnist/mnist_test_lmdb\n",
      "I0821 16:37:46.446435  3838 convert_mnist_data.cpp:88] A total of 10000 items.\n",
      "I0821 16:37:46.446516  3838 convert_mnist_data.cpp:89] Rows: 28 Cols: 28\n",
      "I0821 16:37:46.981907  3838 convert_mnist_data.cpp:108] Processed 10000 files.\n",
      "Done.\n"
     ]
    }
   ],
   "source": [
    "# Prepare data\n",
    "!examples/mnist/create_mnist.sh\n",
    "# back to examples\n",
    "os.chdir('examples')\n"
   ]
  },
  {
   "cell_type": "markdown",
   "metadata": {},
   "source": [
    "## ネットワークの作成"
   ]
  },
  {
   "cell_type": "code",
   "execution_count": 6,
   "metadata": {
    "collapsed": true
   },
   "outputs": [],
   "source": [
    "from caffe import layers as L, params as P\n",
    "\n",
    "def lenet(lmdb, batch_size):\n",
    "    # our version of LeNet: a series of linear and simple nonlinear transformations\n",
    "    n = caffe.NetSpec()\n",
    "    \n",
    "    n.data, n.label = L.Data(batch_size=batch_size, backend=P.Data.LMDB, source=lmdb,\n",
    "                             transform_param=dict(scale=1./255), ntop=2)\n",
    "    \n",
    "    n.conv1 = L.Convolution(n.data, kernel_size=5, num_output=20, weight_filler=dict(type='xavier'))\n",
    "    n.pool1 = L.Pooling(n.conv1, kernel_size=2, stride=2, pool=P.Pooling.MAX)\n",
    "    n.conv2 = L.Convolution(n.pool1, kernel_size=5, num_output=50, weight_filler=dict(type='xavier'))\n",
    "    n.pool2 = L.Pooling(n.conv2, kernel_size=2, stride=2, pool=P.Pooling.MAX)\n",
    "    n.fc1 =   L.InnerProduct(n.pool2, num_output=500, weight_filler=dict(type='xavier'))\n",
    "    n.relu1 = L.ReLU(n.fc1, in_place=True)\n",
    "    n.score = L.InnerProduct(n.relu1, num_output=10, weight_filler=dict(type='xavier'))\n",
    "    n.loss =  L.SoftmaxWithLoss(n.score, n.label)\n",
    "    \n",
    "    return n.to_proto()\n",
    "    \n",
    "with open('mnist/lenet_auto_train.prototxt', 'w') as f:\n",
    "    f.write(str(lenet('mnist/mnist_train_lmdb', 64)))\n",
    "    \n",
    "with open('mnist/lenet_auto_test.prototxt', 'w') as f:\n",
    "    f.write(str(lenet('mnist/mnist_test_lmdb', 100)))"
   ]
  },
  {
   "cell_type": "code",
   "execution_count": 10,
   "metadata": {},
   "outputs": [
    {
     "name": "stdout",
     "output_type": "stream",
     "text": [
      "layer {\r\n",
      "  name: \"data\"\r\n",
      "  type: \"Data\"\r\n",
      "  top: \"data\"\r\n",
      "  top: \"label\"\r\n",
      "  transform_param {\r\n",
      "    scale: 0.00392156885937\r\n",
      "  }\r\n",
      "  data_param {\r\n",
      "    source: \"mnist/mnist_train_lmdb\"\r\n",
      "    batch_size: 64\r\n",
      "    backend: LMDB\r\n",
      "  }\r\n",
      "}\r\n",
      "layer {\r\n",
      "  name: \"conv1\"\r\n",
      "  type: \"Convolution\"\r\n",
      "  bottom: \"data\"\r\n",
      "  top: \"conv1\"\r\n",
      "  convolution_param {\r\n",
      "    num_output: 20\r\n",
      "    kernel_size: 5\r\n",
      "    weight_filler {\r\n",
      "      type: \"xavier\"\r\n",
      "    }\r\n",
      "  }\r\n",
      "}\r\n",
      "layer {\r\n",
      "  name: \"pool1\"\r\n",
      "  type: \"Pooling\"\r\n",
      "  bottom: \"conv1\"\r\n",
      "  top: \"pool1\"\r\n",
      "  pooling_param {\r\n",
      "    pool: MAX\r\n",
      "    kernel_size: 2\r\n",
      "    stride: 2\r\n",
      "  }\r\n",
      "}\r\n",
      "layer {\r\n",
      "  name: \"conv2\"\r\n",
      "  type: \"Convolution\"\r\n",
      "  bottom: \"pool1\"\r\n",
      "  top: \"conv2\"\r\n",
      "  convolution_param {\r\n",
      "    num_output: 50\r\n",
      "    kernel_size: 5\r\n",
      "    weight_filler {\r\n",
      "      type: \"xavier\"\r\n",
      "    }\r\n",
      "  }\r\n",
      "}\r\n",
      "layer {\r\n",
      "  name: \"pool2\"\r\n",
      "  type: \"Pooling\"\r\n",
      "  bottom: \"conv2\"\r\n",
      "  top: \"pool2\"\r\n",
      "  pooling_param {\r\n",
      "    pool: MAX\r\n",
      "    kernel_size: 2\r\n",
      "    stride: 2\r\n",
      "  }\r\n",
      "}\r\n",
      "layer {\r\n",
      "  name: \"fc1\"\r\n",
      "  type: \"InnerProduct\"\r\n",
      "  bottom: \"pool2\"\r\n",
      "  top: \"fc1\"\r\n",
      "  inner_product_param {\r\n",
      "    num_output: 500\r\n",
      "    weight_filler {\r\n",
      "      type: \"xavier\"\r\n",
      "    }\r\n",
      "  }\r\n",
      "}\r\n",
      "layer {\r\n",
      "  name: \"relu1\"\r\n",
      "  type: \"ReLU\"\r\n",
      "  bottom: \"fc1\"\r\n",
      "  top: \"fc1\"\r\n",
      "}\r\n",
      "layer {\r\n",
      "  name: \"score\"\r\n",
      "  type: \"InnerProduct\"\r\n",
      "  bottom: \"fc1\"\r\n",
      "  top: \"score\"\r\n",
      "  inner_product_param {\r\n",
      "    num_output: 10\r\n",
      "    weight_filler {\r\n",
      "      type: \"xavier\"\r\n",
      "    }\r\n",
      "  }\r\n",
      "}\r\n",
      "layer {\r\n",
      "  name: \"loss\"\r\n",
      "  type: \"SoftmaxWithLoss\"\r\n",
      "  bottom: \"score\"\r\n",
      "  bottom: \"label\"\r\n",
      "  top: \"loss\"\r\n",
      "}\r\n"
     ]
    }
   ],
   "source": [
    "!cat mnist/lenet_auto_train.prototxt"
   ]
  },
  {
   "cell_type": "code",
   "execution_count": 13,
   "metadata": {},
   "outputs": [
    {
     "name": "stdout",
     "output_type": "stream",
     "text": [
      "# The train/test net protocol buffer definition\r\n",
      "train_net: \"mnist/lenet_auto_train.prototxt\"\r\n",
      "test_net: \"mnist/lenet_auto_test.prototxt\"\r\n",
      "# test_iter specifies how many forward passes the test should carry out.\r\n",
      "# In the case of MNIST, we have test batch size 100 and 100 test iterations,\r\n",
      "# covering the full 10,000 testing images.\r\n",
      "test_iter: 100\r\n",
      "# Carry out testing every 500 training iterations.\r\n",
      "test_interval: 500\r\n",
      "# The base learning rate, momentum and the weight decay of the network.\r\n",
      "base_lr: 0.01\r\n",
      "momentum: 0.9\r\n",
      "weight_decay: 0.0005\r\n",
      "# The learning rate policy\r\n",
      "lr_policy: \"inv\"\r\n",
      "gamma: 0.0001\r\n",
      "power: 0.75\r\n",
      "# Display every 100 iterations\r\n",
      "display: 100\r\n",
      "# The maximum number of iterations\r\n",
      "max_iter: 10000\r\n",
      "# snapshot intermediate results\r\n",
      "snapshot: 5000\r\n",
      "snapshot_prefix: \"mnist/lenet\"\r\n"
     ]
    }
   ],
   "source": [
    "!cat mnist/lenet_auto_solver.prototxt"
   ]
  },
  {
   "cell_type": "markdown",
   "metadata": {},
   "source": [
    "## ロードおよびソルバのチェック"
   ]
  },
  {
   "cell_type": "code",
   "execution_count": 7,
   "metadata": {
    "collapsed": true
   },
   "outputs": [],
   "source": [
    "# 以下の2行は実行すると落ちるのでコメントアウト\n",
    "# caffe.set_device(0)\n",
    "# caffe.set_mode_gpu()\n",
    "\n",
    "### load the solver and create train and test nets\n",
    "solver = None  # ignore this workaround for lmdb data (can't instantiate two solvers on the same data)\n",
    "solver = caffe.SGDSolver('mnist/lenet_auto_solver.prototxt')"
   ]
  },
  {
   "cell_type": "code",
   "execution_count": 8,
   "metadata": {},
   "outputs": [
    {
     "data": {
      "text/plain": [
       "[('data', (64, 1, 28, 28)),\n",
       " ('label', (64,)),\n",
       " ('conv1', (64, 20, 24, 24)),\n",
       " ('pool1', (64, 20, 12, 12)),\n",
       " ('conv2', (64, 50, 8, 8)),\n",
       " ('pool2', (64, 50, 4, 4)),\n",
       " ('fc1', (64, 500)),\n",
       " ('score', (64, 10)),\n",
       " ('loss', ())]"
      ]
     },
     "execution_count": 8,
     "metadata": {},
     "output_type": "execute_result"
    }
   ],
   "source": [
    "# each output is (batch size, feature dim, spatial dim)\n",
    "[(k, v.data.shape) for k, v in solver.net.blobs.items()]"
   ]
  },
  {
   "cell_type": "code",
   "execution_count": 9,
   "metadata": {},
   "outputs": [
    {
     "data": {
      "text/plain": [
       "[('conv1', (20, 1, 5, 5)),\n",
       " ('conv2', (50, 20, 5, 5)),\n",
       " ('fc1', (500, 800)),\n",
       " ('score', (10, 500))]"
      ]
     },
     "execution_count": 9,
     "metadata": {},
     "output_type": "execute_result"
    }
   ],
   "source": [
    "# just print the weight sizes (we'll omit the biases)\n",
    "[(k, v[0].data.shape) for k, v in solver.net.params.items()]"
   ]
  },
  {
   "cell_type": "code",
   "execution_count": 10,
   "metadata": {},
   "outputs": [
    {
     "data": {
      "text/plain": [
       "{'loss': array(2.3096041679382324, dtype=float32)}"
      ]
     },
     "execution_count": 10,
     "metadata": {},
     "output_type": "execute_result"
    }
   ],
   "source": [
    "solver.net.forward()  # train net\n",
    "solver.test_nets[0].forward()  # test net (there can be more than one)"
   ]
  },
  {
   "cell_type": "code",
   "execution_count": 11,
   "metadata": {},
   "outputs": [
    {
     "name": "stdout",
     "output_type": "stream",
     "text": [
      "train labels: [ 5.  0.  4.  1.  9.  2.  1.  3.]\n"
     ]
    },
    {
     "data": {
      "image/png": "[encoded data removed]",
      "text/plain": [
       "<matplotlib.figure.Figure at 0x7fb7e1e311d0>"
      ]
     },
     "metadata": {},
     "output_type": "display_data"
    }
   ],
   "source": [
    "# we use a little trick to tile the first eight images\n",
    "imshow(solver.net.blobs['data'].data[:8, 0].transpose(1, 0, 2).reshape(28, 8*28), cmap='gray'); axis('off')\n",
    "print 'train labels:', solver.net.blobs['label'].data[:8]"
   ]
  },
  {
   "cell_type": "code",
   "execution_count": 12,
   "metadata": {},
   "outputs": [
    {
     "name": "stdout",
     "output_type": "stream",
     "text": [
      "test labels: [ 7.  2.  1.  0.  4.  1.  4.  9.]\n"
     ]
    },
    {
     "data": {
      "image/png": "[encoded data removed]",
      "text/plain": [
       "<matplotlib.figure.Figure at 0x7fb7e1e2b690>"
      ]
     },
     "metadata": {},
     "output_type": "display_data"
    }
   ],
   "source": [
    "imshow(solver.test_nets[0].blobs['data'].data[:8, 0].transpose(1, 0, 2).reshape(28, 8*28), cmap='gray'); axis('off')\n",
    "print 'test labels:', solver.test_nets[0].blobs['label'].data[:8]"
   ]
  },
  {
   "cell_type": "markdown",
   "metadata": {},
   "source": [
    "## ソルバのステップ実行"
   ]
  },
  {
   "cell_type": "code",
   "execution_count": 14,
   "metadata": {
    "collapsed": true
   },
   "outputs": [],
   "source": [
    "solver.step(1)"
   ]
  },
  {
   "cell_type": "code",
   "execution_count": 15,
   "metadata": {},
   "outputs": [
    {
     "data": {
      "text/plain": [
       "(-0.5, 24.5, 19.5, -0.5)"
      ]
     },
     "execution_count": 15,
     "metadata": {},
     "output_type": "execute_result"
    },
    {
     "data": {
      "image/png": "[encoded data removed]",
      "text/plain": [
       "<matplotlib.figure.Figure at 0x7fb8070895d0>"
      ]
     },
     "metadata": {},
     "output_type": "display_data"
    }
   ],
   "source": [
    "imshow(solver.net.params['conv1'][0].diff[:, 0].reshape(4, 5, 5, 5)\n",
    "       .transpose(0, 2, 1, 3).reshape(4*5, 5*5), cmap='gray'); axis('off')"
   ]
  },
  {
   "cell_type": "markdown",
   "metadata": {},
   "source": [
    "## カスタムの学習ループを記述する"
   ]
  },
  {
   "cell_type": "code",
   "execution_count": 16,
   "metadata": {},
   "outputs": [
    {
     "name": "stdout",
     "output_type": "stream",
     "text": [
      "Iteration 0 testing...\n",
      "Iteration 25 testing...\n",
      "Iteration 50 testing...\n",
      "Iteration 75 testing...\n",
      "Iteration 100 testing...\n",
      "Iteration 125 testing...\n",
      "Iteration 150 testing...\n",
      "Iteration 175 testing...\n",
      "CPU times: user 2min 54s, sys: 2.59 s, total: 2min 56s\n",
      "Wall time: 2min 53s\n"
     ]
    }
   ],
   "source": [
    "%%time\n",
    "niter = 200\n",
    "test_interval = 25\n",
    "# losses will also be stored in the log\n",
    "train_loss = zeros(niter)\n",
    "test_acc = zeros(int(np.ceil(niter / test_interval)))\n",
    "output = zeros((niter, 8, 10))\n",
    "\n",
    "# the main solver loop\n",
    "for it in range(niter):\n",
    "    solver.step(1)  # SGD by Caffe\n",
    "    \n",
    "    # store the train loss\n",
    "    train_loss[it] = solver.net.blobs['loss'].data\n",
    "    \n",
    "    # store the output on the first test batch\n",
    "    # (start the forward pass at conv1 to avoid loading new data)\n",
    "    solver.test_nets[0].forward(start='conv1')\n",
    "    output[it] = solver.test_nets[0].blobs['score'].data[:8]\n",
    "    \n",
    "    # run a full test every so often\n",
    "    # (Caffe can also do this for us and write to a log, but we show here\n",
    "    #  how to do it directly in Python, where more complicated things are easier.)\n",
    "    if it % test_interval == 0:\n",
    "        print 'Iteration', it, 'testing...'\n",
    "        correct = 0\n",
    "        for test_it in range(100):\n",
    "            solver.test_nets[0].forward()\n",
    "            correct += sum(solver.test_nets[0].blobs['score'].data.argmax(1)\n",
    "                           == solver.test_nets[0].blobs['label'].data)\n",
    "        test_acc[it // test_interval] = correct / 1e4"
   ]
  },
  {
   "cell_type": "code",
   "execution_count": 17,
   "metadata": {},
   "outputs": [
    {
     "data": {
      "text/plain": [
       "<matplotlib.text.Text at 0x7fb7dc482790>"
      ]
     },
     "execution_count": 17,
     "metadata": {},
     "output_type": "execute_result"
    },
    {
     "data": {
      "image/png": "[encoded data removed]",
      "text/plain": [
       "<matplotlib.figure.Figure at 0x7fb7dc523b10>"
      ]
     },
     "metadata": {},
     "output_type": "display_data"
    }
   ],
   "source": [
    "_, ax1 = subplots()\n",
    "ax2 = ax1.twinx()\n",
    "ax1.plot(arange(niter), train_loss)\n",
    "ax2.plot(test_interval * arange(len(test_acc)), test_acc, 'r')\n",
    "ax1.set_xlabel('iteration')\n",
    "ax1.set_ylabel('train loss')\n",
    "ax2.set_ylabel('test accuracy')\n",
    "ax2.set_title('Test Accuracy: {:.2f}'.format(test_acc[-1]))"
   ]
  },
  {
   "cell_type": "code",
   "execution_count": 18,
   "metadata": {},
   "outputs": [
    {
     "data": {
      "image/png": "[encoded data removed]",
      "text/plain": [
       "<matplotlib.figure.Figure at 0x7fb7d5af1b50>"
      ]
     },
     "metadata": {},
     "output_type": "display_data"
    },
    {
     "data": {
      "image/png": "[encoded data removed]",
      "text/plain": [
       "<matplotlib.figure.Figure at 0x7fb7d5a4a550>"
      ]
     },
     "metadata": {},
     "output_type": "display_data"
    },
    {
     "data": {
      "image/png": "[encoded data removed]",
      "text/plain": [
       "<matplotlib.figure.Figure at 0x7fb7d595e410>"
      ]
     },
     "metadata": {},
     "output_type": "display_data"
    },
    {
     "data": {
      "image/png": "[encoded data removed]",
      "text/plain": [
       "<matplotlib.figure.Figure at 0x7fb7d594d9d0>"
      ]
     },
     "metadata": {},
     "output_type": "display_data"
    },
    {
     "data": {
      "image/png": "[encoded data removed]",
      "text/plain": [
       "<matplotlib.figure.Figure at 0x7fb7d5860990>"
      ]
     },
     "metadata": {},
     "output_type": "display_data"
    },
    {
     "data": {
      "image/png": "[encoded data removed]",
      "text/plain": [
       "<matplotlib.figure.Figure at 0x7fb7d57e0550>"
      ]
     },
     "metadata": {},
     "output_type": "display_data"
    },
    {
     "data": {
      "image/png": "[encoded data removed]",
      "text/plain": [
       "<matplotlib.figure.Figure at 0x7fb7d5778350>"
      ]
     },
     "metadata": {},
     "output_type": "display_data"
    },
    {
     "data": {
      "image/png": "[encoded data removed]",
      "text/plain": [
       "<matplotlib.figure.Figure at 0x7fb7d56e6a90>"
      ]
     },
     "metadata": {},
     "output_type": "display_data"
    },
    {
     "data": {
      "image/png": "[encoded data removed]",
      "text/plain": [
       "<matplotlib.figure.Figure at 0x7fb7d567a890>"
      ]
     },
     "metadata": {},
     "output_type": "display_data"
    },
    {
     "data": {
      "image/png": "[encoded data removed]",
      "text/plain": [
       "<matplotlib.figure.Figure at 0x7fb7dc508050>"
      ]
     },
     "metadata": {},
     "output_type": "display_data"
    },
    {
     "data": {
      "image/png": "[encoded data removed]",
      "text/plain": [
       "<matplotlib.figure.Figure at 0x7fb7d5fbe810>"
      ]
     },
     "metadata": {},
     "output_type": "display_data"
    },
    {
     "data": {
      "image/png": "[encoded data removed]",
      "text/plain": [
       "<matplotlib.figure.Figure at 0x7fb7d5626110>"
      ]
     },
     "metadata": {},
     "output_type": "display_data"
    },
    {
     "data": {
      "image/png": "[encoded data removed]",
      "text/plain": [
       "<matplotlib.figure.Figure at 0x7fb7d55a9f90>"
      ]
     },
     "metadata": {},
     "output_type": "display_data"
    },
    {
     "data": {
      "image/png": "[encoded data removed]",
      "text/plain": [
       "<matplotlib.figure.Figure at 0x7fb7d5535310>"
      ]
     },
     "metadata": {},
     "output_type": "display_data"
    },
    {
     "data": {
      "image/png": "[encoded data removed]",
      "text/plain": [
       "<matplotlib.figure.Figure at 0x7fb7d54c91d0>"
      ]
     },
     "metadata": {},
     "output_type": "display_data"
    },
    {
     "data": {
      "image/png": "[encoded data removed]",
      "text/plain": [
       "<matplotlib.figure.Figure at 0x7fb7d5447290>"
      ]
     },
     "metadata": {},
     "output_type": "display_data"
    }
   ],
   "source": [
    "for i in range(8):\n",
    "    figure(figsize=(2, 2))\n",
    "    imshow(solver.test_nets[0].blobs['data'].data[i, 0], cmap='gray')\n",
    "    figure(figsize=(10, 2))\n",
    "    imshow(output[:50, i].T, interpolation='nearest', cmap='gray')\n",
    "    xlabel('iteration')\n",
    "    ylabel('label')"
   ]
  },
  {
   "cell_type": "code",
   "execution_count": 19,
   "metadata": {},
   "outputs": [
    {
     "data": {
      "image/png": "[encoded data removed]",
      "text/plain": [
       "<matplotlib.figure.Figure at 0x7fb7d521a850>"
      ]
     },
     "metadata": {},
     "output_type": "display_data"
    },
    {
     "data": {
      "image/png": "[encoded data removed]",
      "text/plain": [
       "<matplotlib.figure.Figure at 0x7fb7d50f9310>"
      ]
     },
     "metadata": {},
     "output_type": "display_data"
    },
    {
     "data": {
      "image/png": "[encoded data removed]",
      "text/plain": [
       "<matplotlib.figure.Figure at 0x7fb7d507bfd0>"
      ]
     },
     "metadata": {},
     "output_type": "display_data"
    },
    {
     "data": {
      "image/png": "[encoded data removed]",
      "text/plain": [
       "<matplotlib.figure.Figure at 0x7fb7d4ffabd0>"
      ]
     },
     "metadata": {},
     "output_type": "display_data"
    },
    {
     "data": {
      "image/png": "[encoded data removed]",
      "text/plain": [
       "<matplotlib.figure.Figure at 0x7fb7d4f8e9d0>"
      ]
     },
     "metadata": {},
     "output_type": "display_data"
    },
    {
     "data": {
      "image/png": "[encoded data removed]",
      "text/plain": [
       "<matplotlib.figure.Figure at 0x7fb7d4f0a810>"
      ]
     },
     "metadata": {},
     "output_type": "display_data"
    },
    {
     "data": {
      "image/png": "[encoded data removed]",
      "text/plain": [
       "<matplotlib.figure.Figure at 0x7fb7d4e21550>"
      ]
     },
     "metadata": {},
     "output_type": "display_data"
    },
    {
     "data": {
      "image/png": "[encoded data removed]",
      "text/plain": [
       "<matplotlib.figure.Figure at 0x7fb7d4e13d50>"
      ]
     },
     "metadata": {},
     "output_type": "display_data"
    },
    {
     "data": {
      "image/png": "[encoded data removed]",
      "text/plain": [
       "<matplotlib.figure.Figure at 0x7fb7d4d26b50>"
      ]
     },
     "metadata": {},
     "output_type": "display_data"
    },
    {
     "data": {
      "image/png": "[encoded data removed]",
      "text/plain": [
       "<matplotlib.figure.Figure at 0x7fb7d550ea10>"
      ]
     },
     "metadata": {},
     "output_type": "display_data"
    },
    {
     "data": {
      "image/png": "[encoded data removed]",
      "text/plain": [
       "<matplotlib.figure.Figure at 0x7fb7d51ecfd0>"
      ]
     },
     "metadata": {},
     "output_type": "display_data"
    },
    {
     "data": {
      "image/png": "[encoded data removed]",
      "text/plain": [
       "<matplotlib.figure.Figure at 0x7fb7d5565490>"
      ]
     },
     "metadata": {},
     "output_type": "display_data"
    },
    {
     "data": {
      "image/png": "[encoded data removed]",
      "text/plain": [
       "<matplotlib.figure.Figure at 0x7fb7dc03d290>"
      ]
     },
     "metadata": {},
     "output_type": "display_data"
    },
    {
     "data": {
      "image/png": "[encoded data removed]",
      "text/plain": [
       "<matplotlib.figure.Figure at 0x7fb7dc055d50>"
      ]
     },
     "metadata": {},
     "output_type": "display_data"
    },
    {
     "data": {
      "image/png": "[encoded data removed]",
      "text/plain": [
       "<matplotlib.figure.Figure at 0x7fb7dc5438d0>"
      ]
     },
     "metadata": {},
     "output_type": "display_data"
    },
    {
     "data": {
      "image/png": "[encoded data removed]",
      "text/plain": [
       "<matplotlib.figure.Figure at 0x7fb7d5fabe90>"
      ]
     },
     "metadata": {},
     "output_type": "display_data"
    }
   ],
   "source": [
    "for i in range(8):\n",
    "    figure(figsize=(2, 2))\n",
    "    imshow(solver.test_nets[0].blobs['data'].data[i, 0], cmap='gray')\n",
    "    figure(figsize=(10, 2))\n",
    "    imshow(exp(output[:50, i].T) / exp(output[:50, i].T).sum(0), interpolation='nearest', cmap='gray')\n",
    "    xlabel('iteration')\n",
    "    ylabel('label')"
   ]
  },
  {
   "cell_type": "markdown",
   "metadata": {},
   "source": [
    "## アーキテクチャ及び最適化の実験"
   ]
  },
  {
   "cell_type": "code",
   "execution_count": 20,
   "metadata": {},
   "outputs": [
    {
     "name": "stdout",
     "output_type": "stream",
     "text": [
      "Iteration 0 testing...\n",
      "Iteration 25 testing...\n",
      "Iteration 50 testing...\n",
      "Iteration 75 testing...\n",
      "Iteration 100 testing...\n",
      "Iteration 125 testing...\n",
      "Iteration 150 testing...\n",
      "Iteration 175 testing...\n",
      "Iteration 200 testing...\n",
      "Iteration 225 testing...\n"
     ]
    },
    {
     "data": {
      "text/plain": [
       "<matplotlib.text.Text at 0x7fb7d568bb50>"
      ]
     },
     "execution_count": 20,
     "metadata": {},
     "output_type": "execute_result"
    },
    {
     "data": {
      "image/png": "[encoded data removed]",
      "text/plain": [
       "<matplotlib.figure.Figure at 0x7fb7d5193890>"
      ]
     },
     "metadata": {},
     "output_type": "display_data"
    }
   ],
   "source": [
    "train_net_path = 'mnist/custom_auto_train.prototxt'\n",
    "test_net_path = 'mnist/custom_auto_test.prototxt'\n",
    "solver_config_path = 'mnist/custom_auto_solver.prototxt'\n",
    "\n",
    "### define net\n",
    "def custom_net(lmdb, batch_size):\n",
    "    # define your own net!\n",
    "    n = caffe.NetSpec()\n",
    "    \n",
    "    # keep this data layer for all networks\n",
    "    n.data, n.label = L.Data(batch_size=batch_size, backend=P.Data.LMDB, source=lmdb,\n",
    "                             transform_param=dict(scale=1./255), ntop=2)\n",
    "    \n",
    "    # EDIT HERE to try different networks\n",
    "    # this single layer defines a simple linear classifier\n",
    "    # (in particular this defines a multiway logistic regression)\n",
    "    n.score =   L.InnerProduct(n.data, num_output=10, weight_filler=dict(type='xavier'))\n",
    "    \n",
    "    # EDIT HERE this is the LeNet variant we have already tried\n",
    "    # n.conv1 = L.Convolution(n.data, kernel_size=5, num_output=20, weight_filler=dict(type='xavier'))\n",
    "    # n.pool1 = L.Pooling(n.conv1, kernel_size=2, stride=2, pool=P.Pooling.MAX)\n",
    "    # n.conv2 = L.Convolution(n.pool1, kernel_size=5, num_output=50, weight_filler=dict(type='xavier'))\n",
    "    # n.pool2 = L.Pooling(n.conv2, kernel_size=2, stride=2, pool=P.Pooling.MAX)\n",
    "    # n.fc1 =   L.InnerProduct(n.pool2, num_output=500, weight_filler=dict(type='xavier'))\n",
    "    # EDIT HERE consider L.ELU or L.Sigmoid for the nonlinearity\n",
    "    # n.relu1 = L.ReLU(n.fc1, in_place=True)\n",
    "    # n.score =   L.InnerProduct(n.fc1, num_output=10, weight_filler=dict(type='xavier'))\n",
    "    \n",
    "    # keep this loss layer for all networks\n",
    "    n.loss =  L.SoftmaxWithLoss(n.score, n.label)\n",
    "    \n",
    "    return n.to_proto()\n",
    "\n",
    "with open(train_net_path, 'w') as f:\n",
    "    f.write(str(custom_net('mnist/mnist_train_lmdb', 64)))    \n",
    "with open(test_net_path, 'w') as f:\n",
    "    f.write(str(custom_net('mnist/mnist_test_lmdb', 100)))\n",
    "\n",
    "### define solver\n",
    "from caffe.proto import caffe_pb2\n",
    "s = caffe_pb2.SolverParameter()\n",
    "\n",
    "# Set a seed for reproducible experiments:\n",
    "# this controls for randomization in training.\n",
    "s.random_seed = 0xCAFFE\n",
    "\n",
    "# Specify locations of the train and (maybe) test networks.\n",
    "s.train_net = train_net_path\n",
    "s.test_net.append(test_net_path)\n",
    "s.test_interval = 500  # Test after every 500 training iterations.\n",
    "s.test_iter.append(100) # Test on 100 batches each time we test.\n",
    "\n",
    "s.max_iter = 10000     # no. of times to update the net (training iterations)\n",
    " \n",
    "# EDIT HERE to try different solvers\n",
    "# solver types include \"SGD\", \"Adam\", and \"Nesterov\" among others.\n",
    "s.type = \"SGD\"\n",
    "\n",
    "# Set the initial learning rate for SGD.\n",
    "s.base_lr = 0.01  # EDIT HERE to try different learning rates\n",
    "# Set momentum to accelerate learning by\n",
    "# taking weighted average of current and previous updates.\n",
    "s.momentum = 0.9\n",
    "# Set weight decay to regularize and prevent overfitting\n",
    "s.weight_decay = 5e-4\n",
    "\n",
    "# Set `lr_policy` to define how the learning rate changes during training.\n",
    "# This is the same policy as our default LeNet.\n",
    "s.lr_policy = 'inv'\n",
    "s.gamma = 0.0001\n",
    "s.power = 0.75\n",
    "# EDIT HERE to try the fixed rate (and compare with adaptive solvers)\n",
    "# `fixed` is the simplest policy that keeps the learning rate constant.\n",
    "# s.lr_policy = 'fixed'\n",
    "\n",
    "# Display the current training loss and accuracy every 1000 iterations.\n",
    "s.display = 1000\n",
    "\n",
    "# Snapshots are files used to store networks we've trained.\n",
    "# We'll snapshot every 5K iterations -- twice during training.\n",
    "s.snapshot = 5000\n",
    "s.snapshot_prefix = 'mnist/custom_net'\n",
    "\n",
    "# Train on the GPU\n",
    "s.solver_mode = caffe_pb2.SolverParameter.GPU\n",
    "\n",
    "# Write the solver to a temporary file and return its filename.\n",
    "with open(solver_config_path, 'w') as f:\n",
    "    f.write(str(s))\n",
    "\n",
    "### load the solver and create train and test nets\n",
    "solver = None  # ignore this workaround for lmdb data (can't instantiate two solvers on the same data)\n",
    "solver = caffe.get_solver(solver_config_path)\n",
    "\n",
    "### solve\n",
    "niter = 250  # EDIT HERE increase to train for longer\n",
    "test_interval = niter / 10\n",
    "# losses will also be stored in the log\n",
    "train_loss = zeros(niter)\n",
    "test_acc = zeros(int(np.ceil(niter / test_interval)))\n",
    "\n",
    "# the main solver loop\n",
    "for it in range(niter):\n",
    "    solver.step(1)  # SGD by Caffe\n",
    "    \n",
    "    # store the train loss\n",
    "    train_loss[it] = solver.net.blobs['loss'].data\n",
    "    \n",
    "    # run a full test every so often\n",
    "    # (Caffe can also do this for us and write to a log, but we show here\n",
    "    #  how to do it directly in Python, where more complicated things are easier.)\n",
    "    if it % test_interval == 0:\n",
    "        print 'Iteration', it, 'testing...'\n",
    "        correct = 0\n",
    "        for test_it in range(100):\n",
    "            solver.test_nets[0].forward()\n",
    "            correct += sum(solver.test_nets[0].blobs['score'].data.argmax(1)\n",
    "                           == solver.test_nets[0].blobs['label'].data)\n",
    "        test_acc[it // test_interval] = correct / 1e4\n",
    "\n",
    "_, ax1 = subplots()\n",
    "ax2 = ax1.twinx()\n",
    "ax1.plot(arange(niter), train_loss)\n",
    "ax2.plot(test_interval * arange(len(test_acc)), test_acc, 'r')\n",
    "ax1.set_xlabel('iteration')\n",
    "ax1.set_ylabel('train loss')\n",
    "ax2.set_ylabel('test accuracy')\n",
    "ax2.set_title('Custom Test Accuracy: {:.2f}'.format(test_acc[-1]))"
   ]
  },
  {
   "cell_type": "markdown",
   "metadata": {},
   "source": [
    "次のステップ（省略）：\n",
    "http://nbviewer.jupyter.org/github/BVLC/caffe/blob/master/examples/02-fine-tuning.ipynb"
   ]
  }
 ],
 "metadata": {
  "kernelspec": {
   "display_name": "Python 2",
   "language": "python",
   "name": "python2"
  },
  "language_info": {
   "codemirror_mode": {
    "name": "ipython",
    "version": 2
   },
   "file_extension": ".py",
   "mimetype": "text/x-python",
   "name": "python",
   "nbconvert_exporter": "python",
   "pygments_lexer": "ipython2",
   "version": "2.7.12"
  }
 },
 "nbformat": 4,
 "nbformat_minor": 2
}
