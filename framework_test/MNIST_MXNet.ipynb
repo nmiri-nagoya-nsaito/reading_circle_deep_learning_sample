{
 "cells": [
  {
   "cell_type": "markdown",
   "metadata": {},
   "source": [
    "# MNISTのサンプルをMXNetで試す\n",
    "http://mxnet.io/tutorials/python/mnist.html"
   ]
  },
  {
   "cell_type": "code",
   "execution_count": 1,
   "metadata": {},
   "outputs": [],
   "source": [
    "import mxnet as mx\n",
    "mnist = mx.test_utils.get_mnist()"
   ]
  },
  {
   "cell_type": "code",
   "execution_count": 2,
   "metadata": {
    "collapsed": true
   },
   "outputs": [],
   "source": [
    "batch_size = 100\n",
    "train_iter = mx.io.NDArrayIter(mnist['train_data'], mnist['train_label'], batch_size, shuffle=True)\n",
    "val_iter = mx.io.NDArrayIter(mnist['test_data'], mnist['test_label'], batch_size)"
   ]
  },
  {
   "cell_type": "markdown",
   "metadata": {},
   "source": [
    "## Training"
   ]
  },
  {
   "cell_type": "code",
   "execution_count": 3,
   "metadata": {
    "collapsed": true
   },
   "outputs": [],
   "source": [
    "data = mx.sym.var('data')\n",
    "# Flatten the data from 4-D shape into 2-D (batch_size, num_channel*width*height)\n",
    "data = mx.sym.flatten(data=data)"
   ]
  },
  {
   "cell_type": "code",
   "execution_count": 4,
   "metadata": {
    "collapsed": true
   },
   "outputs": [],
   "source": [
    "# The first fully-connected layer and the corresponding activation function\n",
    "fc1  = mx.sym.FullyConnected(data=data, num_hidden=128)\n",
    "act1 = mx.sym.Activation(data=fc1, act_type=\"relu\")\n",
    "\n",
    "# The second fully-connected layer and the corresponding activation function\n",
    "fc2  = mx.sym.FullyConnected(data=act1, num_hidden = 64)\n",
    "act2 = mx.sym.Activation(data=fc2, act_type=\"relu\")"
   ]
  },
  {
   "cell_type": "code",
   "execution_count": 5,
   "metadata": {
    "collapsed": true
   },
   "outputs": [],
   "source": [
    "# MNIST has 10 classes\n",
    "fc3  = mx.sym.FullyConnected(data=act2, num_hidden=10)\n",
    "# Softmax with cross entropy loss\n",
    "mlp  = mx.sym.SoftmaxOutput(data=fc3, name='softmax')"
   ]
  },
  {
   "cell_type": "code",
   "execution_count": 6,
   "metadata": {},
   "outputs": [
    {
     "name": "stderr",
     "output_type": "stream",
     "text": [
      "INFO:root:Epoch[0] Batch [100]\tSpeed: 54461.22 samples/sec\taccuracy=0.111980\n",
      "INFO:root:Epoch[0] Batch [200]\tSpeed: 42708.07 samples/sec\taccuracy=0.109500\n",
      "INFO:root:Epoch[0] Batch [300]\tSpeed: 49011.93 samples/sec\taccuracy=0.111900\n",
      "INFO:root:Epoch[0] Batch [400]\tSpeed: 49821.40 samples/sec\taccuracy=0.114100\n",
      "INFO:root:Epoch[0] Batch [500]\tSpeed: 53472.24 samples/sec\taccuracy=0.141400\n",
      "INFO:root:Epoch[0] Train-accuracy=0.299293\n",
      "INFO:root:Epoch[0] Time cost=1.209\n",
      "INFO:root:Epoch[0] Validation-accuracy=0.475200\n",
      "INFO:root:Epoch[1] Batch [100]\tSpeed: 37295.47 samples/sec\taccuracy=0.535149\n",
      "INFO:root:Epoch[1] Batch [200]\tSpeed: 43980.76 samples/sec\taccuracy=0.697900\n",
      "INFO:root:Epoch[1] Batch [300]\tSpeed: 47291.63 samples/sec\taccuracy=0.790500\n",
      "INFO:root:Epoch[1] Batch [400]\tSpeed: 52344.26 samples/sec\taccuracy=0.824500\n",
      "INFO:root:Epoch[1] Batch [500]\tSpeed: 54427.44 samples/sec\taccuracy=0.834800\n",
      "INFO:root:Epoch[1] Train-accuracy=0.836263\n",
      "INFO:root:Epoch[1] Time cost=1.310\n",
      "INFO:root:Epoch[1] Validation-accuracy=0.860400\n",
      "INFO:root:Epoch[2] Batch [100]\tSpeed: 46564.88 samples/sec\taccuracy=0.859505\n",
      "INFO:root:Epoch[2] Batch [200]\tSpeed: 39445.06 samples/sec\taccuracy=0.877200\n",
      "INFO:root:Epoch[2] Batch [300]\tSpeed: 45434.25 samples/sec\taccuracy=0.893700\n",
      "INFO:root:Epoch[2] Batch [400]\tSpeed: 51350.00 samples/sec\taccuracy=0.904000\n",
      "INFO:root:Epoch[2] Batch [500]\tSpeed: 53680.70 samples/sec\taccuracy=0.904800\n",
      "INFO:root:Epoch[2] Train-accuracy=0.910808\n",
      "INFO:root:Epoch[2] Time cost=1.267\n",
      "INFO:root:Epoch[2] Validation-accuracy=0.915600\n",
      "INFO:root:Epoch[3] Batch [100]\tSpeed: 53579.97 samples/sec\taccuracy=0.915248\n",
      "INFO:root:Epoch[3] Batch [200]\tSpeed: 54321.29 samples/sec\taccuracy=0.926600\n",
      "INFO:root:Epoch[3] Batch [300]\tSpeed: 41149.23 samples/sec\taccuracy=0.930500\n",
      "INFO:root:Epoch[3] Batch [400]\tSpeed: 42200.46 samples/sec\taccuracy=0.934800\n",
      "INFO:root:Epoch[3] Batch [500]\tSpeed: 48122.44 samples/sec\taccuracy=0.934200\n",
      "INFO:root:Epoch[3] Train-accuracy=0.938283\n",
      "INFO:root:Epoch[3] Time cost=1.258\n",
      "INFO:root:Epoch[3] Validation-accuracy=0.939000\n",
      "INFO:root:Epoch[4] Batch [100]\tSpeed: 52895.80 samples/sec\taccuracy=0.940891\n",
      "INFO:root:Epoch[4] Batch [200]\tSpeed: 48621.83 samples/sec\taccuracy=0.947800\n",
      "INFO:root:Epoch[4] Batch [300]\tSpeed: 32786.67 samples/sec\taccuracy=0.948200\n",
      "INFO:root:Epoch[4] Batch [400]\tSpeed: 31764.49 samples/sec\taccuracy=0.951700\n",
      "INFO:root:Epoch[4] Batch [500]\tSpeed: 41772.32 samples/sec\taccuracy=0.951200\n",
      "INFO:root:Epoch[4] Train-accuracy=0.955758\n",
      "INFO:root:Epoch[4] Time cost=1.514\n",
      "INFO:root:Epoch[4] Validation-accuracy=0.952200\n",
      "INFO:root:Epoch[5] Batch [100]\tSpeed: 41344.58 samples/sec\taccuracy=0.953168\n",
      "INFO:root:Epoch[5] Batch [200]\tSpeed: 36791.37 samples/sec\taccuracy=0.957200\n",
      "INFO:root:Epoch[5] Batch [300]\tSpeed: 55352.01 samples/sec\taccuracy=0.958700\n",
      "INFO:root:Epoch[5] Batch [400]\tSpeed: 32289.63 samples/sec\taccuracy=0.960500\n",
      "INFO:root:Epoch[5] Batch [500]\tSpeed: 33371.05 samples/sec\taccuracy=0.960000\n",
      "INFO:root:Epoch[5] Train-accuracy=0.963131\n",
      "INFO:root:Epoch[5] Time cost=1.533\n",
      "INFO:root:Epoch[5] Validation-accuracy=0.958800\n",
      "INFO:root:Epoch[6] Batch [100]\tSpeed: 42929.69 samples/sec\taccuracy=0.961089\n",
      "INFO:root:Epoch[6] Batch [200]\tSpeed: 42573.42 samples/sec\taccuracy=0.963700\n",
      "INFO:root:Epoch[6] Batch [300]\tSpeed: 53137.25 samples/sec\taccuracy=0.965000\n",
      "INFO:root:Epoch[6] Batch [400]\tSpeed: 56777.61 samples/sec\taccuracy=0.965400\n",
      "INFO:root:Epoch[6] Batch [500]\tSpeed: 55959.42 samples/sec\taccuracy=0.965400\n",
      "INFO:root:Epoch[6] Train-accuracy=0.968586\n",
      "INFO:root:Epoch[6] Time cost=1.202\n",
      "INFO:root:Epoch[6] Validation-accuracy=0.962900\n",
      "INFO:root:Epoch[7] Batch [100]\tSpeed: 55289.55 samples/sec\taccuracy=0.967624\n",
      "INFO:root:Epoch[7] Batch [200]\tSpeed: 53610.37 samples/sec\taccuracy=0.970200\n",
      "INFO:root:Epoch[7] Batch [300]\tSpeed: 40248.54 samples/sec\taccuracy=0.970100\n",
      "INFO:root:Epoch[7] Batch [400]\tSpeed: 42659.38 samples/sec\taccuracy=0.971900\n",
      "INFO:root:Epoch[7] Batch [500]\tSpeed: 45828.67 samples/sec\taccuracy=0.969600\n",
      "INFO:root:Epoch[7] Train-accuracy=0.971919\n",
      "INFO:root:Epoch[7] Time cost=1.265\n",
      "INFO:root:Epoch[7] Validation-accuracy=0.965600\n",
      "INFO:root:Epoch[8] Batch [100]\tSpeed: 51866.37 samples/sec\taccuracy=0.971782\n",
      "INFO:root:Epoch[8] Batch [200]\tSpeed: 49505.21 samples/sec\taccuracy=0.973500\n",
      "INFO:root:Epoch[8] Batch [300]\tSpeed: 53407.36 samples/sec\taccuracy=0.974700\n",
      "INFO:root:Epoch[8] Batch [400]\tSpeed: 55251.97 samples/sec\taccuracy=0.976100\n",
      "INFO:root:Epoch[8] Batch [500]\tSpeed: 54836.61 samples/sec\taccuracy=0.973500\n",
      "INFO:root:Epoch[8] Train-accuracy=0.975556\n",
      "INFO:root:Epoch[8] Time cost=1.139\n",
      "INFO:root:Epoch[8] Validation-accuracy=0.967700\n",
      "INFO:root:Epoch[9] Batch [100]\tSpeed: 54981.60 samples/sec\taccuracy=0.975644\n",
      "INFO:root:Epoch[9] Batch [200]\tSpeed: 54717.14 samples/sec\taccuracy=0.976900\n",
      "INFO:root:Epoch[9] Batch [300]\tSpeed: 54975.76 samples/sec\taccuracy=0.978300\n",
      "INFO:root:Epoch[9] Batch [400]\tSpeed: 54340.78 samples/sec\taccuracy=0.978800\n",
      "INFO:root:Epoch[9] Batch [500]\tSpeed: 54258.25 samples/sec\taccuracy=0.975900\n",
      "INFO:root:Epoch[9] Train-accuracy=0.977879\n",
      "INFO:root:Epoch[9] Time cost=1.106\n",
      "INFO:root:Epoch[9] Validation-accuracy=0.968800\n"
     ]
    }
   ],
   "source": [
    "import logging\n",
    "logging.getLogger().setLevel(logging.DEBUG)  # logging to stdout\n",
    "# create a trainable module on CPU\n",
    "mlp_model = mx.mod.Module(symbol=mlp, context=mx.cpu())\n",
    "mlp_model.fit(train_iter,  # train data\n",
    "              eval_data=val_iter,  # validation data\n",
    "              optimizer='sgd',  # use SGD to train\n",
    "              optimizer_params={'learning_rate':0.1},  # use fixed learning rate\n",
    "              eval_metric='acc',  # report accuracy during training\n",
    "              batch_end_callback = mx.callback.Speedometer(batch_size, 100), # output progress for each 100 data batches\n",
    "              num_epoch=10)  # train for at most 10 dataset passes"
   ]
  },
  {
   "cell_type": "markdown",
   "metadata": {},
   "source": [
    "## 予測"
   ]
  },
  {
   "cell_type": "code",
   "execution_count": 7,
   "metadata": {
    "collapsed": true
   },
   "outputs": [],
   "source": [
    "test_iter = mx.io.NDArrayIter(mnist['test_data'], None, batch_size)\n",
    "prob = mlp_model.predict(test_iter)\n",
    "assert prob.shape == (10000, 10)"
   ]
  },
  {
   "cell_type": "code",
   "execution_count": 8,
   "metadata": {},
   "outputs": [
    {
     "name": "stdout",
     "output_type": "stream",
     "text": [
      "EvalMetric: {'accuracy': 0.96879999999999999}\n"
     ]
    }
   ],
   "source": [
    "test_iter = mx.io.NDArrayIter(mnist['test_data'], mnist['test_label'], batch_size)\n",
    "# predict accuracy of mlp\n",
    "acc = mx.metric.Accuracy()\n",
    "mlp_model.score(test_iter, acc)\n",
    "print(acc)\n",
    "assert acc.get()[1] > 0.96"
   ]
  },
  {
   "cell_type": "markdown",
   "metadata": {},
   "source": [
    "## CNN"
   ]
  },
  {
   "cell_type": "code",
   "execution_count": 9,
   "metadata": {
    "collapsed": true
   },
   "outputs": [],
   "source": [
    "data = mx.sym.var('data')\n",
    "# first conv layer\n",
    "conv1 = mx.sym.Convolution(data=data, kernel=(5,5), num_filter=20)\n",
    "tanh1 = mx.sym.Activation(data=conv1, act_type=\"tanh\")\n",
    "pool1 = mx.sym.Pooling(data=tanh1, pool_type=\"max\", kernel=(2,2), stride=(2,2))\n",
    "# second conv layer\n",
    "conv2 = mx.sym.Convolution(data=pool1, kernel=(5,5), num_filter=50)\n",
    "tanh2 = mx.sym.Activation(data=conv2, act_type=\"tanh\")\n",
    "pool2 = mx.sym.Pooling(data=tanh2, pool_type=\"max\", kernel=(2,2), stride=(2,2))\n",
    "# first fullc layer\n",
    "flatten = mx.sym.flatten(data=pool2)\n",
    "fc1 = mx.symbol.FullyConnected(data=flatten, num_hidden=500)\n",
    "tanh3 = mx.sym.Activation(data=fc1, act_type=\"tanh\")\n",
    "# second fullc\n",
    "fc2 = mx.sym.FullyConnected(data=tanh3, num_hidden=10)\n",
    "# softmax loss\n",
    "lenet = mx.sym.SoftmaxOutput(data=fc2, name='softmax')"
   ]
  },
  {
   "cell_type": "code",
   "execution_count": 10,
   "metadata": {},
   "outputs": [
    {
     "name": "stderr",
     "output_type": "stream",
     "text": [
      "INFO:root:Epoch[0] Batch [100]\tSpeed: 877.27 samples/sec\taccuracy=0.111584\n",
      "INFO:root:Epoch[0] Batch [200]\tSpeed: 898.99 samples/sec\taccuracy=0.109500\n",
      "INFO:root:Epoch[0] Batch [300]\tSpeed: 918.36 samples/sec\taccuracy=0.111900\n",
      "INFO:root:Epoch[0] Batch [400]\tSpeed: 855.08 samples/sec\taccuracy=0.114100\n",
      "INFO:root:Epoch[0] Batch [500]\tSpeed: 795.08 samples/sec\taccuracy=0.119800\n",
      "INFO:root:Epoch[0] Train-accuracy=0.105859\n",
      "INFO:root:Epoch[0] Time cost=68.886\n",
      "INFO:root:Epoch[0] Validation-accuracy=0.113500\n",
      "INFO:root:Epoch[1] Batch [100]\tSpeed: 886.51 samples/sec\taccuracy=0.112970\n",
      "INFO:root:Epoch[1] Batch [200]\tSpeed: 968.01 samples/sec\taccuracy=0.200600\n",
      "INFO:root:Epoch[1] Batch [300]\tSpeed: 974.56 samples/sec\taccuracy=0.671400\n",
      "INFO:root:Epoch[1] Batch [400]\tSpeed: 965.08 samples/sec\taccuracy=0.878000\n",
      "INFO:root:Epoch[1] Batch [500]\tSpeed: 970.65 samples/sec\taccuracy=0.902100\n",
      "INFO:root:Epoch[1] Train-accuracy=0.920606\n",
      "INFO:root:Epoch[1] Time cost=62.811\n",
      "INFO:root:Epoch[1] Validation-accuracy=0.936800\n",
      "INFO:root:Epoch[2] Batch [100]\tSpeed: 965.41 samples/sec\taccuracy=0.935248\n",
      "INFO:root:Epoch[2] Batch [200]\tSpeed: 968.85 samples/sec\taccuracy=0.947900\n",
      "INFO:root:Epoch[2] Batch [300]\tSpeed: 971.92 samples/sec\taccuracy=0.954400\n",
      "INFO:root:Epoch[2] Batch [400]\tSpeed: 883.16 samples/sec\taccuracy=0.961900\n",
      "INFO:root:Epoch[2] Batch [500]\tSpeed: 935.50 samples/sec\taccuracy=0.961700\n",
      "INFO:root:Epoch[2] Train-accuracy=0.964141\n",
      "INFO:root:Epoch[2] Time cost=63.268\n",
      "INFO:root:Epoch[2] Validation-accuracy=0.971400\n",
      "INFO:root:Epoch[3] Batch [100]\tSpeed: 971.56 samples/sec\taccuracy=0.970594\n",
      "INFO:root:Epoch[3] Batch [200]\tSpeed: 961.67 samples/sec\taccuracy=0.970300\n",
      "INFO:root:Epoch[3] Batch [300]\tSpeed: 926.11 samples/sec\taccuracy=0.973200\n",
      "INFO:root:Epoch[3] Batch [400]\tSpeed: 871.08 samples/sec\taccuracy=0.976700\n",
      "INFO:root:Epoch[3] Batch [500]\tSpeed: 836.41 samples/sec\taccuracy=0.975600\n",
      "INFO:root:Epoch[3] Train-accuracy=0.975960\n",
      "INFO:root:Epoch[3] Time cost=66.579\n",
      "INFO:root:Epoch[3] Validation-accuracy=0.978700\n",
      "INFO:root:Epoch[4] Batch [100]\tSpeed: 895.84 samples/sec\taccuracy=0.980495\n",
      "INFO:root:Epoch[4] Batch [200]\tSpeed: 904.92 samples/sec\taccuracy=0.977400\n",
      "INFO:root:Epoch[4] Batch [300]\tSpeed: 902.66 samples/sec\taccuracy=0.979200\n",
      "INFO:root:Epoch[4] Batch [400]\tSpeed: 910.08 samples/sec\taccuracy=0.983200\n",
      "INFO:root:Epoch[4] Batch [500]\tSpeed: 928.38 samples/sec\taccuracy=0.980100\n",
      "INFO:root:Epoch[4] Train-accuracy=0.980202\n",
      "INFO:root:Epoch[4] Time cost=65.970\n",
      "INFO:root:Epoch[4] Validation-accuracy=0.983500\n",
      "INFO:root:Epoch[5] Batch [100]\tSpeed: 921.89 samples/sec\taccuracy=0.985050\n",
      "INFO:root:Epoch[5] Batch [200]\tSpeed: 934.58 samples/sec\taccuracy=0.982800\n",
      "INFO:root:Epoch[5] Batch [300]\tSpeed: 927.21 samples/sec\taccuracy=0.983100\n",
      "INFO:root:Epoch[5] Batch [400]\tSpeed: 933.54 samples/sec\taccuracy=0.986400\n",
      "INFO:root:Epoch[5] Batch [500]\tSpeed: 899.32 samples/sec\taccuracy=0.984700\n",
      "INFO:root:Epoch[5] Train-accuracy=0.983737\n",
      "INFO:root:Epoch[5] Time cost=65.104\n",
      "INFO:root:Epoch[5] Validation-accuracy=0.984300\n",
      "INFO:root:Epoch[6] Batch [100]\tSpeed: 883.64 samples/sec\taccuracy=0.987129\n",
      "INFO:root:Epoch[6] Batch [200]\tSpeed: 889.35 samples/sec\taccuracy=0.986200\n",
      "INFO:root:Epoch[6] Batch [300]\tSpeed: 912.27 samples/sec\taccuracy=0.986400\n",
      "INFO:root:Epoch[6] Batch [400]\tSpeed: 927.59 samples/sec\taccuracy=0.988500\n",
      "INFO:root:Epoch[6] Batch [500]\tSpeed: 945.43 samples/sec\taccuracy=0.986700\n",
      "INFO:root:Epoch[6] Train-accuracy=0.986465\n",
      "INFO:root:Epoch[6] Time cost=65.557\n",
      "INFO:root:Epoch[6] Validation-accuracy=0.985800\n",
      "INFO:root:Epoch[7] Batch [100]\tSpeed: 907.58 samples/sec\taccuracy=0.988713\n",
      "INFO:root:Epoch[7] Batch [200]\tSpeed: 968.06 samples/sec\taccuracy=0.988000\n",
      "INFO:root:Epoch[7] Batch [300]\tSpeed: 971.23 samples/sec\taccuracy=0.988400\n",
      "INFO:root:Epoch[7] Batch [400]\tSpeed: 966.36 samples/sec\taccuracy=0.989900\n",
      "INFO:root:Epoch[7] Batch [500]\tSpeed: 972.88 samples/sec\taccuracy=0.989200\n",
      "INFO:root:Epoch[7] Train-accuracy=0.987879\n",
      "INFO:root:Epoch[7] Time cost=62.837\n",
      "INFO:root:Epoch[7] Validation-accuracy=0.987200\n",
      "INFO:root:Epoch[8] Batch [100]\tSpeed: 933.84 samples/sec\taccuracy=0.990693\n",
      "INFO:root:Epoch[8] Batch [200]\tSpeed: 815.80 samples/sec\taccuracy=0.989500\n",
      "INFO:root:Epoch[8] Batch [300]\tSpeed: 826.48 samples/sec\taccuracy=0.990000\n",
      "INFO:root:Epoch[8] Batch [400]\tSpeed: 931.28 samples/sec\taccuracy=0.991600\n",
      "INFO:root:Epoch[8] Batch [500]\tSpeed: 882.17 samples/sec\taccuracy=0.991200\n",
      "INFO:root:Epoch[8] Train-accuracy=0.989293\n",
      "INFO:root:Epoch[8] Time cost=68.822\n",
      "INFO:root:Epoch[8] Validation-accuracy=0.988100\n",
      "INFO:root:Epoch[9] Batch [100]\tSpeed: 946.33 samples/sec\taccuracy=0.992277\n",
      "INFO:root:Epoch[9] Batch [200]\tSpeed: 930.90 samples/sec\taccuracy=0.990700\n",
      "INFO:root:Epoch[9] Batch [300]\tSpeed: 919.21 samples/sec\taccuracy=0.991400\n",
      "INFO:root:Epoch[9] Batch [400]\tSpeed: 848.78 samples/sec\taccuracy=0.992700\n",
      "INFO:root:Epoch[9] Batch [500]\tSpeed: 850.89 samples/sec\taccuracy=0.992300\n",
      "INFO:root:Epoch[9] Train-accuracy=0.991515\n",
      "INFO:root:Epoch[9] Time cost=67.743\n",
      "INFO:root:Epoch[9] Validation-accuracy=0.988100\n"
     ]
    }
   ],
   "source": [
    "# create a trainable module on GPU 0\n",
    "lenet_model = mx.mod.Module(symbol=lenet, context=mx.cpu())\n",
    "# train with the same\n",
    "lenet_model.fit(train_iter,\n",
    "                eval_data=val_iter,\n",
    "                optimizer='sgd',\n",
    "                optimizer_params={'learning_rate':0.1},\n",
    "                eval_metric='acc',\n",
    "                batch_end_callback = mx.callback.Speedometer(batch_size, 100),\n",
    "                num_epoch=10)"
   ]
  },
  {
   "cell_type": "markdown",
   "metadata": {},
   "source": [
    "### 予測"
   ]
  },
  {
   "cell_type": "code",
   "execution_count": 11,
   "metadata": {},
   "outputs": [
    {
     "name": "stdout",
     "output_type": "stream",
     "text": [
      "EvalMetric: {'accuracy': 0.98809999999999998}\n"
     ]
    }
   ],
   "source": [
    "test_iter = mx.io.NDArrayIter(mnist['test_data'], None, batch_size)\n",
    "prob = lenet_model.predict(test_iter)\n",
    "test_iter = mx.io.NDArrayIter(mnist['test_data'], mnist['test_label'], batch_size)\n",
    "# predict accuracy for lenet\n",
    "acc = mx.metric.Accuracy()\n",
    "lenet_model.score(test_iter, acc)\n",
    "print(acc)\n",
    "assert acc.get()[1] > 0.98"
   ]
  },
  {
   "cell_type": "code",
   "execution_count": null,
   "metadata": {
    "collapsed": true
   },
   "outputs": [],
   "source": []
  }
 ],
 "metadata": {
  "kernelspec": {
   "display_name": "Python 3",
   "language": "python",
   "name": "python3"
  },
  "language_info": {
   "codemirror_mode": {
    "name": "ipython",
    "version": 3
   },
   "file_extension": ".py",
   "mimetype": "text/x-python",
   "name": "python",
   "nbconvert_exporter": "python",
   "pygments_lexer": "ipython3",
   "version": "3.6.2"
  }
 },
 "nbformat": 4,
 "nbformat_minor": 2
}
