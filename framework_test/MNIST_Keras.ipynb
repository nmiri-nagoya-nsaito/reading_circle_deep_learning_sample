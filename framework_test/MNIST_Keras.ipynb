{
 "cells": [
  {
   "cell_type": "code",
   "execution_count": 1,
   "metadata": {},
   "outputs": [
    {
     "name": "stdout",
     "output_type": "stream",
     "text": [
      "/Users/saito/work/reading_circle_deep_learning_sample/framework_test\r\n"
     ]
    }
   ],
   "source": [
    "!pwd"
   ]
  },
  {
   "cell_type": "code",
   "execution_count": 2,
   "metadata": {},
   "outputs": [
    {
     "name": "stdout",
     "output_type": "stream",
     "text": [
      "Cloning into '../venv/keras/keras'...\n",
      "remote: Counting objects: 22875, done.\u001b[K\n",
      "remote: Compressing objects: 100% (7/7), done.\u001b[K\n",
      "remote: Total 22875 (delta 1), reused 1 (delta 0), pack-reused 22868\u001b[K\n",
      "Receiving objects: 100% (22875/22875), 8.66 MiB | 586.00 KiB/s, done.\n",
      "Resolving deltas: 100% (16449/16449), done.\n",
      "Checking connectivity... done.\n"
     ]
    }
   ],
   "source": [
    "!git clone https://github.com/fchollet/keras.git ../venv/keras/keras"
   ]
  },
  {
   "cell_type": "code",
   "execution_count": 3,
   "metadata": {},
   "outputs": [
    {
     "name": "stdout",
     "output_type": "stream",
     "text": [
      "README.md                         mnist_cnn.py\r\n",
      "addition_rnn.py                   mnist_hierarchical_rnn.py\r\n",
      "antirectifier.py                  mnist_irnn.py\r\n",
      "babi_memnn.py                     mnist_mlp.py\r\n",
      "babi_rnn.py                       mnist_net2net.py\r\n",
      "cifar10_cnn.py                    mnist_siamese_graph.py\r\n",
      "conv_filter_visualization.py      mnist_sklearn_wrapper.py\r\n",
      "conv_lstm.py                      mnist_swwae.py\r\n",
      "deep_dream.py                     mnist_tfrecord.py\r\n",
      "image_ocr.py                      mnist_transfer_cnn.py\r\n",
      "imdb_bidirectional_lstm.py        neural_doodle.py\r\n",
      "imdb_cnn.py                       neural_style_transfer.py\r\n",
      "imdb_cnn_lstm.py                  pretrained_word_embeddings.py\r\n",
      "imdb_fasttext.py                  reuters_mlp.py\r\n",
      "imdb_lstm.py                      reuters_mlp_relu_vs_selu.py\r\n",
      "lstm_benchmark.py                 stateful_lstm.py\r\n",
      "lstm_text_generation.py           variational_autoencoder.py\r\n",
      "mnist_acgan.py                    variational_autoencoder_deconv.py\r\n"
     ]
    }
   ],
   "source": [
    "!ls ../venv/keras/keras/examples"
   ]
  },
  {
   "cell_type": "code",
   "execution_count": 5,
   "metadata": {},
   "outputs": [
    {
     "name": "stdout",
     "output_type": "stream",
     "text": [
      "Using TensorFlow backend.\n",
      "Downloading data from https://s3.amazonaws.com/img-datasets/mnist.npz\n",
      "11337728/11490434 [============================>.] - ETA: 0s60000 train samples\n",
      "10000 test samples\n",
      "_________________________________________________________________\n",
      "Layer (type)                 Output Shape              Param #   \n",
      "=================================================================\n",
      "dense_1 (Dense)              (None, 512)               401920    \n",
      "_________________________________________________________________\n",
      "dropout_1 (Dropout)          (None, 512)               0         \n",
      "_________________________________________________________________\n",
      "dense_2 (Dense)              (None, 512)               262656    \n",
      "_________________________________________________________________\n",
      "dropout_2 (Dropout)          (None, 512)               0         \n",
      "_________________________________________________________________\n",
      "dense_3 (Dense)              (None, 10)                5130      \n",
      "=================================================================\n",
      "Total params: 669,706\n",
      "Trainable params: 669,706\n",
      "Non-trainable params: 0\n",
      "_________________________________________________________________\n",
      "Train on 60000 samples, validate on 10000 samples\n",
      "Epoch 1/20\n",
      "2017-08-21 19:52:13.333457: W tensorflow/core/platform/cpu_feature_guard.cc:45] The TensorFlow library wasn't compiled to use SSE4.2 instructions, but these are available on your machine and could speed up CPU computations.\n",
      "2017-08-21 19:52:13.333503: W tensorflow/core/platform/cpu_feature_guard.cc:45] The TensorFlow library wasn't compiled to use AVX instructions, but these are available on your machine and could speed up CPU computations.\n",
      "60000/60000 [==============================] - 13s - loss: 0.2457 - acc: 0.9245 - val_loss: 0.1024 - val_acc: 0.9693\n",
      "Epoch 2/20\n",
      "60000/60000 [==============================] - 12s - loss: 0.1027 - acc: 0.9686 - val_loss: 0.0928 - val_acc: 0.9719\n",
      "Epoch 3/20\n",
      "60000/60000 [==============================] - 12s - loss: 0.0742 - acc: 0.9778 - val_loss: 0.0742 - val_acc: 0.9799\n",
      "Epoch 4/20\n",
      "60000/60000 [==============================] - 12s - loss: 0.0603 - acc: 0.9819 - val_loss: 0.0797 - val_acc: 0.9796\n",
      "Epoch 5/20\n",
      "60000/60000 [==============================] - 12s - loss: 0.0510 - acc: 0.9850 - val_loss: 0.0741 - val_acc: 0.9813\n",
      "Epoch 6/20\n",
      "60000/60000 [==============================] - 12s - loss: 0.0437 - acc: 0.9869 - val_loss: 0.0739 - val_acc: 0.9825\n",
      "Epoch 7/20\n",
      "60000/60000 [==============================] - 12s - loss: 0.0406 - acc: 0.9882 - val_loss: 0.0887 - val_acc: 0.9818\n",
      "Epoch 8/20\n",
      "60000/60000 [==============================] - 12s - loss: 0.0337 - acc: 0.9899 - val_loss: 0.0916 - val_acc: 0.9808\n",
      "Epoch 9/20\n",
      "60000/60000 [==============================] - 12s - loss: 0.0333 - acc: 0.9911 - val_loss: 0.0920 - val_acc: 0.9802\n",
      "Epoch 10/20\n",
      "60000/60000 [==============================] - 12s - loss: 0.0304 - acc: 0.9913 - val_loss: 0.0857 - val_acc: 0.9833\n",
      "Epoch 11/20\n",
      "60000/60000 [==============================] - 12s - loss: 0.0276 - acc: 0.9920 - val_loss: 0.0947 - val_acc: 0.9824\n",
      "Epoch 12/20\n",
      "60000/60000 [==============================] - 12s - loss: 0.0250 - acc: 0.9926 - val_loss: 0.1082 - val_acc: 0.9803\n",
      "Epoch 13/20\n",
      "60000/60000 [==============================] - 12s - loss: 0.0245 - acc: 0.9935 - val_loss: 0.0961 - val_acc: 0.9818\n",
      "Epoch 14/20\n",
      "60000/60000 [==============================] - 12s - loss: 0.0240 - acc: 0.9937 - val_loss: 0.0927 - val_acc: 0.9848\n",
      "Epoch 15/20\n",
      "60000/60000 [==============================] - 12s - loss: 0.0225 - acc: 0.9941 - val_loss: 0.0926 - val_acc: 0.9852\n",
      "Epoch 16/20\n",
      "60000/60000 [==============================] - 12s - loss: 0.0215 - acc: 0.9942 - val_loss: 0.1046 - val_acc: 0.9822\n",
      "Epoch 17/20\n",
      "60000/60000 [==============================] - 13s - loss: 0.0206 - acc: 0.9946 - val_loss: 0.1030 - val_acc: 0.9829\n",
      "Epoch 18/20\n",
      "60000/60000 [==============================] - 12s - loss: 0.0225 - acc: 0.9944 - val_loss: 0.0965 - val_acc: 0.9856\n",
      "Epoch 19/20\n",
      "60000/60000 [==============================] - 12s - loss: 0.0208 - acc: 0.9947 - val_loss: 0.1220 - val_acc: 0.9820\n",
      "Epoch 20/20\n",
      "60000/60000 [==============================] - 12s - loss: 0.0190 - acc: 0.9955 - val_loss: 0.1222 - val_acc: 0.9815\n",
      "Test loss: 0.122202351212\n",
      "Test accuracy: 0.9815\n"
     ]
    }
   ],
   "source": [
    "!python ../venv/keras/keras/examples/mnist_mlp.py"
   ]
  },
  {
   "cell_type": "code",
   "execution_count": 6,
   "metadata": {},
   "outputs": [
    {
     "name": "stdout",
     "output_type": "stream",
     "text": [
      "Using TensorFlow backend.\n",
      "x_train shape: (60000, 28, 28, 1)\n",
      "60000 train samples\n",
      "10000 test samples\n",
      "Train on 60000 samples, validate on 10000 samples\n",
      "Epoch 1/12\n",
      "2017-08-21 19:57:02.116340: W tensorflow/core/platform/cpu_feature_guard.cc:45] The TensorFlow library wasn't compiled to use SSE4.2 instructions, but these are available on your machine and could speed up CPU computations.\n",
      "2017-08-21 19:57:02.116395: W tensorflow/core/platform/cpu_feature_guard.cc:45] The TensorFlow library wasn't compiled to use AVX instructions, but these are available on your machine and could speed up CPU computations.\n",
      "60000/60000 [==============================] - 229s - loss: 0.3424 - acc: 0.8944 - val_loss: 0.0784 - val_acc: 0.9751\n",
      "Epoch 2/12\n",
      "60000/60000 [==============================] - 229s - loss: 0.1205 - acc: 0.9648 - val_loss: 0.0539 - val_acc: 0.9820\n",
      "Epoch 3/12\n",
      "60000/60000 [==============================] - 239s - loss: 0.0898 - acc: 0.9728 - val_loss: 0.0439 - val_acc: 0.9850\n",
      "Epoch 4/12\n",
      "60000/60000 [==============================] - 271s - loss: 0.0778 - acc: 0.9779 - val_loss: 0.0381 - val_acc: 0.9880\n",
      "Epoch 5/12\n",
      "60000/60000 [==============================] - 281s - loss: 0.0656 - acc: 0.9805 - val_loss: 0.0371 - val_acc: 0.9888\n",
      "Epoch 6/12\n",
      "60000/60000 [==============================] - 263s - loss: 0.0594 - acc: 0.9827 - val_loss: 0.0342 - val_acc: 0.9889\n",
      "Epoch 7/12\n",
      "60000/60000 [==============================] - 277s - loss: 0.0546 - acc: 0.9836 - val_loss: 0.0328 - val_acc: 0.9891\n",
      "Epoch 8/12\n",
      "60000/60000 [==============================] - 443s - loss: 0.0495 - acc: 0.9855 - val_loss: 0.0323 - val_acc: 0.9895\n",
      "Epoch 9/12\n",
      "60000/60000 [==============================] - 485s - loss: 0.0466 - acc: 0.9858 - val_loss: 0.0311 - val_acc: 0.9897\n",
      "Epoch 10/12\n",
      "60000/60000 [==============================] - 463s - loss: 0.0428 - acc: 0.9872 - val_loss: 0.0317 - val_acc: 0.9896\n",
      "Epoch 11/12\n",
      "60000/60000 [==============================] - 453s - loss: 0.0409 - acc: 0.9879 - val_loss: 0.0296 - val_acc: 0.9903\n",
      "Epoch 12/12\n",
      "60000/60000 [==============================] - 435s - loss: 0.0387 - acc: 0.9887 - val_loss: 0.0291 - val_acc: 0.9908\n",
      "Test loss: 0.0290592430857\n",
      "Test accuracy: 0.9908\n"
     ]
    }
   ],
   "source": [
    "!python ../venv/keras/keras/examples/mnist_cnn.py"
   ]
  }
 ],
 "metadata": {
  "kernelspec": {
   "display_name": "Python 3",
   "language": "python",
   "name": "python3"
  },
  "language_info": {
   "codemirror_mode": {
    "name": "ipython",
    "version": 3
   },
   "file_extension": ".py",
   "mimetype": "text/x-python",
   "name": "python",
   "nbconvert_exporter": "python",
   "pygments_lexer": "ipython3",
   "version": "3.6.2"
  }
 },
 "nbformat": 4,
 "nbformat_minor": 2
}
